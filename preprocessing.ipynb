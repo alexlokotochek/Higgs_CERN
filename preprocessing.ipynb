{
 "cells": [
  {
   "cell_type": "code",
   "execution_count": 1,
   "metadata": {
    "collapsed": false
   },
   "outputs": [],
   "source": [
    "import pandas as pd\n",
    "import numpy as np\n",
    "from matplotlib import pyplot as plt\n",
    "\n",
    "%matplotlib inline"
   ]
  },
  {
   "cell_type": "code",
   "execution_count": 2,
   "metadata": {
    "collapsed": false
   },
   "outputs": [],
   "source": [
    "train = pd.read_csv('./training.csv').drop('EventId', 1)\n",
    "test = pd.read_csv('./test.csv').drop('EventId', 1)"
   ]
  },
  {
   "cell_type": "code",
   "execution_count": 3,
   "metadata": {
    "collapsed": false
   },
   "outputs": [
    {
     "data": {
      "text/html": [
       "<div>\n",
       "<table border=\"1\" class=\"dataframe\">\n",
       "  <thead>\n",
       "    <tr style=\"text-align: right;\">\n",
       "      <th></th>\n",
       "      <th>DER_mass_MMC</th>\n",
       "      <th>DER_mass_transverse_met_lep</th>\n",
       "      <th>DER_mass_vis</th>\n",
       "      <th>DER_pt_h</th>\n",
       "      <th>DER_deltaeta_jet_jet</th>\n",
       "      <th>DER_mass_jet_jet</th>\n",
       "      <th>DER_prodeta_jet_jet</th>\n",
       "      <th>DER_deltar_tau_lep</th>\n",
       "      <th>DER_pt_tot</th>\n",
       "      <th>DER_sum_pt</th>\n",
       "      <th>...</th>\n",
       "      <th>PRI_jet_num</th>\n",
       "      <th>PRI_jet_leading_pt</th>\n",
       "      <th>PRI_jet_leading_eta</th>\n",
       "      <th>PRI_jet_leading_phi</th>\n",
       "      <th>PRI_jet_subleading_pt</th>\n",
       "      <th>PRI_jet_subleading_eta</th>\n",
       "      <th>PRI_jet_subleading_phi</th>\n",
       "      <th>PRI_jet_all_pt</th>\n",
       "      <th>Weight</th>\n",
       "      <th>Label</th>\n",
       "    </tr>\n",
       "  </thead>\n",
       "  <tbody>\n",
       "    <tr>\n",
       "      <th>0</th>\n",
       "      <td>138.47</td>\n",
       "      <td>51.655</td>\n",
       "      <td>97.827</td>\n",
       "      <td>27.98</td>\n",
       "      <td>0.91</td>\n",
       "      <td>124.711</td>\n",
       "      <td>2.666</td>\n",
       "      <td>3.064</td>\n",
       "      <td>41.928</td>\n",
       "      <td>197.76</td>\n",
       "      <td>...</td>\n",
       "      <td>2</td>\n",
       "      <td>67.435</td>\n",
       "      <td>2.15</td>\n",
       "      <td>0.444</td>\n",
       "      <td>46.062</td>\n",
       "      <td>1.24</td>\n",
       "      <td>-2.475</td>\n",
       "      <td>113.497</td>\n",
       "      <td>0.002653</td>\n",
       "      <td>s</td>\n",
       "    </tr>\n",
       "  </tbody>\n",
       "</table>\n",
       "<p>1 rows × 32 columns</p>\n",
       "</div>"
      ],
      "text/plain": [
       "   DER_mass_MMC  DER_mass_transverse_met_lep  DER_mass_vis  DER_pt_h  \\\n",
       "0        138.47                       51.655        97.827     27.98   \n",
       "\n",
       "   DER_deltaeta_jet_jet  DER_mass_jet_jet  DER_prodeta_jet_jet  \\\n",
       "0                  0.91           124.711                2.666   \n",
       "\n",
       "   DER_deltar_tau_lep  DER_pt_tot  DER_sum_pt  ...    PRI_jet_num  \\\n",
       "0               3.064      41.928      197.76  ...              2   \n",
       "\n",
       "   PRI_jet_leading_pt  PRI_jet_leading_eta  PRI_jet_leading_phi  \\\n",
       "0              67.435                 2.15                0.444   \n",
       "\n",
       "   PRI_jet_subleading_pt  PRI_jet_subleading_eta  PRI_jet_subleading_phi  \\\n",
       "0                 46.062                    1.24                  -2.475   \n",
       "\n",
       "   PRI_jet_all_pt    Weight  Label  \n",
       "0         113.497  0.002653      s  \n",
       "\n",
       "[1 rows x 32 columns]"
      ]
     },
     "execution_count": 3,
     "metadata": {},
     "output_type": "execute_result"
    }
   ],
   "source": [
    "train.head(1)"
   ]
  },
  {
   "cell_type": "code",
   "execution_count": 4,
   "metadata": {
    "collapsed": false
   },
   "outputs": [
    {
     "data": {
      "text/html": [
       "<div>\n",
       "<table border=\"1\" class=\"dataframe\">\n",
       "  <thead>\n",
       "    <tr style=\"text-align: right;\">\n",
       "      <th></th>\n",
       "      <th>DER_mass_MMC</th>\n",
       "      <th>DER_mass_transverse_met_lep</th>\n",
       "      <th>DER_mass_vis</th>\n",
       "      <th>DER_pt_h</th>\n",
       "      <th>DER_deltaeta_jet_jet</th>\n",
       "      <th>DER_mass_jet_jet</th>\n",
       "      <th>DER_prodeta_jet_jet</th>\n",
       "      <th>DER_deltar_tau_lep</th>\n",
       "      <th>DER_pt_tot</th>\n",
       "      <th>DER_sum_pt</th>\n",
       "      <th>...</th>\n",
       "      <th>PRI_met_phi</th>\n",
       "      <th>PRI_met_sumet</th>\n",
       "      <th>PRI_jet_num</th>\n",
       "      <th>PRI_jet_leading_pt</th>\n",
       "      <th>PRI_jet_leading_eta</th>\n",
       "      <th>PRI_jet_leading_phi</th>\n",
       "      <th>PRI_jet_subleading_pt</th>\n",
       "      <th>PRI_jet_subleading_eta</th>\n",
       "      <th>PRI_jet_subleading_phi</th>\n",
       "      <th>PRI_jet_all_pt</th>\n",
       "    </tr>\n",
       "  </thead>\n",
       "  <tbody>\n",
       "    <tr>\n",
       "      <th>0</th>\n",
       "      <td>-999.0</td>\n",
       "      <td>79.589</td>\n",
       "      <td>23.916</td>\n",
       "      <td>3.036</td>\n",
       "      <td>-999.0</td>\n",
       "      <td>-999.0</td>\n",
       "      <td>-999.0</td>\n",
       "      <td>0.903</td>\n",
       "      <td>3.036</td>\n",
       "      <td>56.018</td>\n",
       "      <td>...</td>\n",
       "      <td>2.022</td>\n",
       "      <td>98.556</td>\n",
       "      <td>0</td>\n",
       "      <td>-999.0</td>\n",
       "      <td>-999.0</td>\n",
       "      <td>-999.0</td>\n",
       "      <td>-999.0</td>\n",
       "      <td>-999.0</td>\n",
       "      <td>-999.0</td>\n",
       "      <td>-0.0</td>\n",
       "    </tr>\n",
       "  </tbody>\n",
       "</table>\n",
       "<p>1 rows × 30 columns</p>\n",
       "</div>"
      ],
      "text/plain": [
       "   DER_mass_MMC  DER_mass_transverse_met_lep  DER_mass_vis  DER_pt_h  \\\n",
       "0        -999.0                       79.589        23.916     3.036   \n",
       "\n",
       "   DER_deltaeta_jet_jet  DER_mass_jet_jet  DER_prodeta_jet_jet  \\\n",
       "0                -999.0            -999.0               -999.0   \n",
       "\n",
       "   DER_deltar_tau_lep  DER_pt_tot  DER_sum_pt       ...        PRI_met_phi  \\\n",
       "0               0.903       3.036      56.018       ...              2.022   \n",
       "\n",
       "   PRI_met_sumet  PRI_jet_num  PRI_jet_leading_pt  PRI_jet_leading_eta  \\\n",
       "0         98.556            0              -999.0               -999.0   \n",
       "\n",
       "   PRI_jet_leading_phi  PRI_jet_subleading_pt  PRI_jet_subleading_eta  \\\n",
       "0               -999.0                 -999.0                  -999.0   \n",
       "\n",
       "   PRI_jet_subleading_phi  PRI_jet_all_pt  \n",
       "0                  -999.0            -0.0  \n",
       "\n",
       "[1 rows x 30 columns]"
      ]
     },
     "execution_count": 4,
     "metadata": {},
     "output_type": "execute_result"
    }
   ],
   "source": [
    "test.head(1)"
   ]
  },
  {
   "cell_type": "code",
   "execution_count": 5,
   "metadata": {
    "collapsed": false
   },
   "outputs": [
    {
     "name": "stdout",
     "output_type": "stream",
     "text": [
      "(250000, 30) (550000, 30)\n"
     ]
    }
   ],
   "source": [
    "y_train, weights_train = train['Label'], train['Weight']\n",
    "y_train = [1 if t == 's' else 0 for t in y_train]\n",
    "train = train[test.columns]\n",
    "\n",
    "print train.shape, test.shape"
   ]
  },
  {
   "cell_type": "markdown",
   "metadata": {},
   "source": [
    "### Заменим -999 (n/a) на медианные значения и добавим соотв. фичи"
   ]
  },
  {
   "cell_type": "code",
   "execution_count": 6,
   "metadata": {
    "collapsed": true
   },
   "outputs": [],
   "source": [
    "cat_cols = []\n",
    "def fillna(X):\n",
    "    old_cols = X.columns\n",
    "    for c in old_cols:\n",
    "        if (len(X[X[c]==-999.]) > 0):\n",
    "            # если n/a встречаются часто\n",
    "            if (len(X[X[c]==-999.]) > 10):\n",
    "                newname = c + '_is_na'\n",
    "                cat_cols.append(newname)\n",
    "                X[newname] = [1 if x==-999. else 0 for x in X[c]]\n",
    "            med = X[X[c]!=-999.][c].median()\n",
    "            X[c] = X[c].replace(-999., med)\n",
    "\n",
    "fillna(train)\n",
    "fillna(test)"
   ]
  },
  {
   "cell_type": "code",
   "execution_count": 7,
   "metadata": {
    "collapsed": false,
    "scrolled": true
   },
   "outputs": [
    {
     "data": {
      "text/plain": [
       "((250000, 41), (550000, 41))"
      ]
     },
     "execution_count": 7,
     "metadata": {},
     "output_type": "execute_result"
    }
   ],
   "source": [
    "train.shape, test.shape"
   ]
  },
  {
   "cell_type": "markdown",
   "metadata": {},
   "source": [
    "## Посмотрим на распределения фичей"
   ]
  },
  {
   "cell_type": "code",
   "execution_count": 24,
   "metadata": {
    "collapsed": false
   },
   "outputs": [
    {
     "data": {
      "application/javascript": [
       "IPython.OutputArea.auto_scroll_threshold = 9999;\n",
       "// IPython.OutputArea.auto_scroll_threshold = 200;\n",
       "//(посмотрим на распределение всех фичей, потом сделать 200 !!!)"
      ],
      "text/plain": [
       "<IPython.core.display.Javascript object>"
      ]
     },
     "metadata": {},
     "output_type": "display_data"
    }
   ],
   "source": [
    "%%javascript\n",
    "IPython.OutputArea.auto_scroll_threshold = 9999;\n",
    "// IPython.OutputArea.auto_scroll_threshold = 200;\n",
    "//(посмотрим на распределение всех фичей, потом сделать 200 !!!)"
   ]
  },
  {
   "cell_type": "markdown",
   "metadata": {},
   "source": [
    "в ячейке ниже рисуется ~40 графиков, осторожно"
   ]
  },
  {
   "cell_type": "code",
   "execution_count": 25,
   "metadata": {
    "collapsed": false
   },
   "outputs": [
    {
     "name": "stdout",
     "output_type": "stream",
     "text": [
      "DER_mass_MMC\n",
      "nunuqie:  108337 / 250000\n",
      "count    2.500000e+05\n",
      "mean     2.696470e-14\n",
      "std      1.204177e+02\n",
      "min     -2.537179e+02\n",
      "25%     -5.638809e+01\n",
      "50%     -1.825071e+01\n",
      "75%      2.321097e+01\n",
      "max      2.441213e+03\n",
      "Name: DER_mass_MMC, dtype: float64\n"
     ]
    },
    {
     "data": {
      "image/png": "[encoded data removed]",
      "text/plain": [
       "<matplotlib.figure.Figure at 0x7fa2497b9f50>"
      ]
     },
     "metadata": {},
     "output_type": "display_data"
    },
    {
     "name": "stdout",
     "output_type": "stream",
     "text": [
      "DER_mass_transverse_met_lep\n",
      "nunuqie:  101637 / 250000\n",
      "count    2.500000e+05\n",
      "mean     2.089109e-15\n",
      "std      4.923992e+01\n",
      "min     -6.859733e+01\n",
      "25%     -4.179217e+01\n",
      "50%     -3.783481e+00\n",
      "75%      3.393404e+01\n",
      "max      8.927649e+02\n",
      "Name: DER_mass_transverse_met_lep, dtype: float64\n"
     ]
    },
    {
     "data": {
      "image/png": "[encoded data removed]",
      "text/plain": [
       "<matplotlib.figure.Figure at 0x7fa255ce21d0>"
      ]
     },
     "metadata": {},
     "output_type": "display_data"
    },
    {
     "name": "stdout",
     "output_type": "stream",
     "text": [
      "DER_mass_vis\n",
      "nunuqie:  100558 / 250000\n",
      "count    2.500000e+05\n",
      "mean     5.220314e-12\n",
      "std      7.687758e+01\n",
      "min     -5.296221e+02\n",
      "25%     -4.014723e+01\n",
      "50%      7.019619e-01\n",
      "75%      4.022138e+01\n",
      "max      4.487216e+02\n",
      "Name: DER_mass_vis, dtype: float64\n"
     ]
    },
    {
     "data": {
      "image/png": "[encoded data removed]",
      "text/plain": [
       "<matplotlib.figure.Figure at 0x7fa255c22fd0>"
      ]
     },
     "metadata": {},
     "output_type": "display_data"
    },
    {
     "name": "stdout",
     "output_type": "stream",
     "text": [
      "DER_pt_h\n",
      "nunuqie:  115563 / 250000\n",
      "count    2.500000e+05\n",
      "mean     2.495653e-15\n",
      "std      5.789608e+01\n",
      "min     -5.265750e+01\n",
      "25%     -3.986170e+01\n",
      "50%     -1.767056e+01\n",
      "75%      1.934824e+01\n",
      "max      2.525829e+03\n",
      "Name: DER_pt_h, dtype: float64\n"
     ]
    },
    {
     "data": {
      "image/png": "[encoded data removed]",
      "text/plain": [
       "<matplotlib.figure.Figure at 0x7fa25602dcd0>"
      ]
     },
     "metadata": {},
     "output_type": "display_data"
    },
    {
     "name": "stdout",
     "output_type": "stream",
     "text": [
      "DER_deltaeta_jet_jet\n",
      "nunuqie:  7086 / 250000\n",
      "count    2.500000e+05\n",
      "mean    -7.131007e-16\n",
      "std      2.193109e+00\n",
      "min     -5.072981e+00\n",
      "25%     -1.991720e-01\n",
      "50%     -1.991720e-01\n",
      "75%     -1.991720e-01\n",
      "max      1.459574e+01\n",
      "Name: DER_deltaeta_jet_jet, dtype: float64\n"
     ]
    },
    {
     "data": {
      "image/png": "[encoded data removed]",
      "text/plain": [
       "<matplotlib.figure.Figure at 0x7fa2556e5e50>"
      ]
     },
     "metadata": {},
     "output_type": "display_data"
    },
    {
     "name": "stdout",
     "output_type": "stream",
     "text": [
      "DER_mass_jet_jet\n",
      "nunuqie:  68365 / 250000\n",
      "count    2.500000e+05\n",
      "mean    -2.102315e-13\n",
      "std      2.682212e+02\n",
      "min     -3.045721e+02\n",
      "25%     -5.064142e+01\n",
      "50%     -5.064142e+01\n",
      "75%     -5.064142e+01\n",
      "max      5.630175e+03\n",
      "Name: DER_mass_jet_jet, dtype: float64\n"
     ]
    },
    {
     "data": {
      "image/png": "[encoded data removed]",
      "text/plain": [
       "<matplotlib.figure.Figure at 0x7fa2561b49d0>"
      ]
     },
     "metadata": {},
     "output_type": "display_data"
    },
    {
     "name": "stdout",
     "output_type": "stream",
     "text": [
      "DER_prodeta_jet_jet\n",
      "nunuqie:  16592 / 250000\n",
      "count    2.500000e+05\n",
      "mean    -4.973799e-19\n",
      "std      4.116298e-01\n",
      "min     -3.612762e+00\n",
      "25%     -3.541203e-02\n",
      "50%     -3.541203e-02\n",
      "75%     -3.541203e-02\n",
      "max      3.729530e+00\n",
      "Name: DER_prodeta_jet_jet, dtype: float64\n"
     ]
    },
    {
     "data": {
      "image/png": "[encoded data removed]",
      "text/plain": [
       "<matplotlib.figure.Figure at 0x7fa25525c750>"
      ]
     },
     "metadata": {},
     "output_type": "display_data"
    },
    {
     "name": "stdout",
     "output_type": "stream",
     "text": [
      "DER_deltar_tau_lep\n",
      "nunuqie:  4692 / 250000\n",
      "count    2.500000e+05\n",
      "mean    -1.216449e-15\n",
      "std      2.373105e+00\n",
      "min     -6.562697e+00\n",
      "25%     -1.706828e+00\n",
      "50%      3.588861e-01\n",
      "75%      1.782001e+00\n",
      "max      1.003577e+01\n",
      "Name: DER_deltar_tau_lep, dtype: float64\n"
     ]
    },
    {
     "data": {
      "image/png": "[encoded data removed]",
      "text/plain": [
       "<matplotlib.figure.Figure at 0x7fa2560a6210>"
      ]
     },
     "metadata": {},
     "output_type": "display_data"
    },
    {
     "name": "stdout",
     "output_type": "stream",
     "text": [
      "DER_pt_tot\n",
      "nunuqie:  59042 / 250000\n",
      "count    2.500000e+05\n",
      "mean    -8.604729e-15\n",
      "std      1.891737e+01\n",
      "min     -1.606691e+01\n",
      "25%     -1.365398e+01\n",
      "50%     -5.607082e+00\n",
      "75%      7.366737e+00\n",
      "max      2.391760e+03\n",
      "Name: DER_pt_tot, dtype: float64\n"
     ]
    },
    {
     "data": {
      "image/png": "[encoded data removed]",
      "text/plain": [
       "<matplotlib.figure.Figure at 0x7fa255afe350>"
      ]
     },
     "metadata": {},
     "output_type": "display_data"
    },
    {
     "name": "stdout",
     "output_type": "stream",
     "text": [
      "DER_sum_pt\n",
      "nunuqie:  156098 / 250000\n",
      "count    2.500000e+05\n",
      "mean    -1.640001e-14\n",
      "std      1.584325e+02\n",
      "min     -1.538073e+02\n",
      "25%     -1.107493e+02\n",
      "50%     -5.171408e+01\n",
      "75%      5.757223e+01\n",
      "max      2.319579e+03\n",
      "Name: DER_sum_pt, dtype: float64\n"
     ]
    },
    {
     "data": {
      "image/png": "[encoded data removed]",
      "text/plain": [
       "<matplotlib.figure.Figure at 0x7fa2559bcf90>"
      ]
     },
     "metadata": {},
     "output_type": "display_data"
    },
    {
     "name": "stdout",
     "output_type": "stream",
     "text": [
      "DER_pt_ratio_lep_tau\n",
      "nunuqie:  5931 / 250000\n",
      "count    2.500000e+05\n",
      "mean     2.801244e-16\n",
      "std      1.220726e+00\n",
      "min     -6.176979e+00\n",
      "25%     -7.991561e-01\n",
      "50%     -6.690314e-02\n",
      "75%      7.618262e-01\n",
      "max      7.308755e+00\n",
      "Name: DER_pt_ratio_lep_tau, dtype: float64\n"
     ]
    },
    {
     "data": {
      "image/png": "[encoded data removed]",
      "text/plain": [
       "<matplotlib.figure.Figure at 0x7fa255a9bc10>"
      ]
     },
     "metadata": {},
     "output_type": "display_data"
    },
    {
     "name": "stdout",
     "output_type": "stream",
     "text": [
      "DER_met_phi_centrality\n",
      "nunuqie:  2829 / 250000\n",
      "count    2.500000e+05\n",
      "mean     3.904432e-18\n",
      "std      1.283050e-01\n",
      "min     -1.657908e-01\n",
      "25%     -1.454741e-01\n",
      "50%      2.447621e-02\n",
      "75%      1.335841e-01\n",
      "max      1.382064e-01\n",
      "Name: DER_met_phi_centrality, dtype: float64\n"
     ]
    },
    {
     "data": {
      "image/png": "[encoded data removed]",
      "text/plain": [
       "<matplotlib.figure.Figure at 0x7fa2557d8150>"
      ]
     },
     "metadata": {},
     "output_type": "display_data"
    },
    {
     "name": "stdout",
     "output_type": "stream",
     "text": [
      "DER_lep_eta_centrality\n",
      "nunuqie:  1001 / 250000\n",
      "count    2.500000e+05\n",
      "mean     3.820446e-16\n",
      "std      4.552457e-01\n",
      "min     -9.649869e-01\n",
      "25%     -2.638573e-03\n",
      "50%     -2.638573e-03\n",
      "75%     -2.638573e-03\n",
      "max      1.154723e+00\n",
      "Name: DER_lep_eta_centrality, dtype: float64\n"
     ]
    },
    {
     "data": {
      "image/png": "[encoded data removed]",
      "text/plain": [
       "<matplotlib.figure.Figure at 0x7fa255549f50>"
      ]
     },
     "metadata": {},
     "output_type": "display_data"
    },
    {
     "name": "stdout",
     "output_type": "stream",
     "text": [
      "PRI_tau_pt\n",
      "nunuqie:  59639 / 250000\n",
      "count    2.500000e+05\n",
      "mean     1.567696e-14\n",
      "std      3.870750e+01\n",
      "min     -3.230924e+01\n",
      "25%     -2.437892e+01\n",
      "50%     -1.192277e+01\n",
      "75%      1.089716e+01\n",
      "max      1.253344e+03\n",
      "Name: PRI_tau_pt, dtype: float64\n"
     ]
    },
    {
     "data": {
      "image/png": "[encoded data removed]",
      "text/plain": [
       "<matplotlib.figure.Figure at 0x7fa255d86e10>"
      ]
     },
     "metadata": {},
     "output_type": "display_data"
    },
    {
     "name": "stdout",
     "output_type": "stream",
     "text": [
      "PRI_tau_eta\n",
      "nunuqie:  4971 / 250000\n",
      "count    2.500000e+05\n",
      "mean    -1.421085e-19\n",
      "std      1.097307e-02\n",
      "min     -2.266753e-02\n",
      "25%     -8.215468e-03\n",
      "50%      1.087018e-04\n",
      "75%      8.261147e-03\n",
      "max      2.248725e-02\n",
      "Name: PRI_tau_eta, dtype: float64\n"
     ]
    },
    {
     "data": {
      "image/png": "[encoded data removed]",
      "text/plain": [
       "<matplotlib.figure.Figure at 0x7fa255279490>"
      ]
     },
     "metadata": {},
     "output_type": "display_data"
    },
    {
     "name": "stdout",
     "output_type": "stream",
     "text": [
      "PRI_tau_phi\n",
      "nunuqie:  6285 / 250000\n",
      "count    2.500000e+05\n",
      "mean    -1.949552e-19\n",
      "std      8.171088e-03\n",
      "min     -1.416824e-02\n",
      "25%     -7.075507e-03\n",
      "50%      1.116708e-04\n",
      "75%      7.046983e-03\n",
      "max      1.409473e-02\n",
      "Name: PRI_tau_phi, dtype: float64\n"
     ]
    },
    {
     "data": {
      "image/png": "[encoded data removed]",
      "text/plain": [
       "<matplotlib.figure.Figure at 0x7fa255805410>"
      ]
     },
     "metadata": {},
     "output_type": "display_data"
    },
    {
     "name": "stdout",
     "output_type": "stream",
     "text": [
      "PRI_lep_pt\n",
      "nunuqie:  61929 / 250000\n",
      "count    2.500000e+05\n",
      "mean    -2.770867e-14\n",
      "std      4.666030e+01\n",
      "min     -4.368977e+01\n",
      "25%     -3.020867e+01\n",
      "50%     -1.299305e+01\n",
      "75%      1.423137e+01\n",
      "max      1.086124e+03\n",
      "Name: PRI_lep_pt, dtype: float64\n"
     ]
    },
    {
     "data": {
      "image/png": "[encoded data removed]",
      "text/plain": [
       "<matplotlib.figure.Figure at 0x7fa258582910>"
      ]
     },
     "metadata": {},
     "output_type": "display_data"
    },
    {
     "name": "stdout",
     "output_type": "stream",
     "text": [
      "PRI_lep_eta\n",
      "nunuqie:  4987 / 250000\n",
      "count    2.500000e+05\n",
      "mean    -2.398082e-19\n",
      "std      1.950751e-02\n",
      "min     -3.890002e-02\n",
      "25%     -1.508973e-02\n",
      "50%      3.931247e-04\n",
      "75%      1.533624e-02\n",
      "max      3.832921e-02\n",
      "Name: PRI_lep_eta, dtype: float64\n"
     ]
    },
    {
     "data": {
      "image/png": "[encoded data removed]",
      "text/plain": [
       "<matplotlib.figure.Figure at 0x7fa255403590>"
      ]
     },
     "metadata": {},
     "output_type": "display_data"
    },
    {
     "name": "stdout",
     "output_type": "stream",
     "text": [
      "PRI_lep_phi\n",
      "nunuqie:  6285 / 250000\n",
      "count    2.500000e+05\n",
      "mean     1.652012e-18\n",
      "std      4.354305e-02\n",
      "min     -7.635550e-02\n",
      "25%     -3.752510e-02\n",
      "50%      1.017669e-03\n",
      "75%      3.773876e-02\n",
      "max      7.426810e-02\n",
      "Name: PRI_lep_phi, dtype: float64\n"
     ]
    },
    {
     "data": {
      "image/png": "[encoded data removed]",
      "text/plain": [
       "<matplotlib.figure.Figure at 0x7fa255ba4dd0>"
      ]
     },
     "metadata": {},
     "output_type": "display_data"
    },
    {
     "name": "stdout",
     "output_type": "stream",
     "text": [
      "PRI_met\n",
      "nunuqie:  87836 / 250000\n",
      "count    2.500000e+05\n",
      "mean    -3.494606e-13\n",
      "std      3.824219e+01\n",
      "min     -2.269310e+02\n",
      "25%     -2.402939e+01\n",
      "50%     -3.778673e+00\n",
      "75%      2.087294e+01\n",
      "max      2.884701e+02\n",
      "Name: PRI_met, dtype: float64\n"
     ]
    },
    {
     "data": {
      "image/png": "[encoded data removed]",
      "text/plain": [
       "<matplotlib.figure.Figure at 0x7fa25585c7d0>"
      ]
     },
     "metadata": {},
     "output_type": "display_data"
    },
    {
     "name": "stdout",
     "output_type": "stream",
     "text": [
      "PRI_met_phi\n",
      "nunuqie:  6285 / 250000\n",
      "count    2.500000e+05\n",
      "mean     2.446932e-19\n",
      "std      1.011921e-02\n",
      "min     -1.760102e-02\n",
      "25%     -8.772922e-03\n",
      "50%      7.750860e-05\n",
      "75%      8.738088e-03\n",
      "max      1.748801e-02\n",
      "Name: PRI_met_phi, dtype: float64\n"
     ]
    },
    {
     "data": {
      "image/png": "[encoded data removed]",
      "text/plain": [
       "<matplotlib.figure.Figure at 0x7fa255fbe850>"
      ]
     },
     "metadata": {},
     "output_type": "display_data"
    },
    {
     "name": "stdout",
     "output_type": "stream",
     "text": [
      "PRI_met_sumet\n",
      "nunuqie:  179740 / 250000\n",
      "count    2.500000e+05\n",
      "mean     2.615406e-11\n",
      "std      2.046125e+02\n",
      "min     -8.619167e+02\n",
      "25%     -1.384936e+02\n",
      "50%     -2.282625e+00\n",
      "75%      1.328910e+02\n",
      "max      9.159350e+02\n",
      "Name: PRI_met_sumet, dtype: float64\n"
     ]
    },
    {
     "data": {
      "image/png": "[encoded data removed]",
      "text/plain": [
       "<matplotlib.figure.Figure at 0x7fa255845d50>"
      ]
     },
     "metadata": {},
     "output_type": "display_data"
    },
    {
     "name": "stdout",
     "output_type": "stream",
     "text": [
      "PRI_jet_leading_pt\n",
      "nunuqie:  86589 / 250000\n",
      "count    2.500000e+05\n",
      "mean     9.604264e-16\n",
      "std      7.712452e+01\n",
      "min     -7.581251e+01\n",
      "25%     -3.166933e+01\n",
      "50%     -1.860286e+01\n",
      "75%     -2.856164e+00\n",
      "max      1.678674e+03\n",
      "Name: PRI_jet_leading_pt, dtype: float64\n"
     ]
    },
    {
     "data": {
      "image/png": "[encoded data removed]",
      "text/plain": [
       "<matplotlib.figure.Figure at 0x7fa255d0f290>"
      ]
     },
     "metadata": {},
     "output_type": "display_data"
    },
    {
     "name": "stdout",
     "output_type": "stream",
     "text": [
      "PRI_jet_leading_eta\n",
      "nunuqie:  8557 / 250000\n",
      "count    2.500000e+05\n",
      "mean     4.934941e-20\n",
      "std      1.965896e-03\n",
      "min     -6.399371e-03\n",
      "25%     -6.184246e-04\n",
      "50%     -2.795060e-06\n",
      "75%      6.128345e-04\n",
      "max      6.393780e-03\n",
      "Name: PRI_jet_leading_eta, dtype: float64\n"
     ]
    },
    {
     "data": {
      "image/png": "[encoded data removed]",
      "text/plain": [
       "<matplotlib.figure.Figure at 0x7fa255ba7810>"
      ]
     },
     "metadata": {},
     "output_type": "display_data"
    },
    {
     "name": "stdout",
     "output_type": "stream",
     "text": [
      "PRI_jet_leading_phi\n",
      "nunuqie:  6284 / 250000\n",
      "count    2.500000e+05\n",
      "mean    -2.788880e-19\n",
      "std      2.062857e-02\n",
      "min     -4.641705e-02\n",
      "25%     -7.687587e-03\n",
      "50%      1.816303e-04\n",
      "75%      7.859989e-03\n",
      "max      4.582602e-02\n",
      "Name: PRI_jet_leading_phi, dtype: float64\n"
     ]
    },
    {
     "data": {
      "image/png": "[encoded data removed]",
      "text/plain": [
       "<matplotlib.figure.Figure at 0x7fa255c60490>"
      ]
     },
     "metadata": {},
     "output_type": "display_data"
    },
    {
     "name": "stdout",
     "output_type": "stream",
     "text": [
      "PRI_jet_subleading_pt\n",
      "nunuqie:  42463 / 250000\n",
      "count    2.500000e+05\n",
      "mean    -2.506931e-14\n",
      "std      5.073925e+01\n",
      "min     -5.914349e+01\n",
      "25%     -8.090925e+00\n",
      "50%     -8.090925e+00\n",
      "75%     -8.090925e+00\n",
      "max      1.912737e+03\n",
      "Name: PRI_jet_subleading_pt, dtype: float64\n"
     ]
    },
    {
     "data": {
      "image/png": "[encoded data removed]",
      "text/plain": [
       "<matplotlib.figure.Figure at 0x7fa2555e8110>"
      ]
     },
     "metadata": {},
     "output_type": "display_data"
    },
    {
     "name": "stdout",
     "output_type": "stream",
     "text": [
      "PRI_jet_subleading_eta\n",
      "nunuqie:  8627 / 250000\n",
      "count    2.500000e+05\n",
      "mean     9.205969e-19\n",
      "std      1.053547e-02\n",
      "min     -4.341976e-02\n",
      "25%     -5.154343e-06\n",
      "50%     -5.154343e-06\n",
      "75%     -5.154343e-06\n",
      "max      4.321692e-02\n",
      "Name: PRI_jet_subleading_eta, dtype: float64\n"
     ]
    },
    {
     "data": {
      "image/png": "[encoded data removed]",
      "text/plain": [
       "<matplotlib.figure.Figure at 0x7fa255d251d0>"
      ]
     },
     "metadata": {},
     "output_type": "display_data"
    },
    {
     "name": "stdout",
     "output_type": "stream",
     "text": [
      "PRI_jet_subleading_phi\n",
      "nunuqie:  6285 / 250000\n",
      "count    2.500000e+05\n",
      "mean     1.195155e-19\n",
      "std      1.878796e-03\n",
      "min     -6.034994e-03\n",
      "25%      2.326710e-07\n",
      "50%      2.326710e-07\n",
      "75%      2.326710e-07\n",
      "max      6.027781e-03\n",
      "Name: PRI_jet_subleading_phi, dtype: float64\n"
     ]
    },
    {
     "data": {
      "image/png": "[encoded data removed]",
      "text/plain": [
       "<matplotlib.figure.Figure at 0x7fa2552cae10>"
      ]
     },
     "metadata": {},
     "output_type": "display_data"
    },
    {
     "name": "stdout",
     "output_type": "stream",
     "text": [
      "PRI_jet_all_pt\n",
      "nunuqie:  103559 / 250000\n",
      "count    2.500000e+05\n",
      "mean    -1.844091e-14\n",
      "std      7.306474e+01\n",
      "min     -5.446523e+01\n",
      "25%     -5.446523e+01\n",
      "50%     -2.426561e+01\n",
      "75%      2.748372e+01\n",
      "max      1.163160e+03\n",
      "Name: PRI_jet_all_pt, dtype: float64\n"
     ]
    },
    {
     "data": {
      "image/png": "[encoded data removed]",
      "text/plain": [
       "<matplotlib.figure.Figure at 0x7fa255931850>"
      ]
     },
     "metadata": {},
     "output_type": "display_data"
    },
    {
     "name": "stdout",
     "output_type": "stream",
     "text": [
      "DER_pt_tot_log\n",
      "nunuqie:  59042 / 250000\n",
      "count    2.500000e+05\n",
      "mean    -5.399841e-16\n",
      "std      2.173333e+00\n",
      "min     -1.023309e+01\n",
      "25%     -1.699339e+00\n",
      "50%      5.107740e-01\n",
      "75%      1.727818e+00\n",
      "max      8.720390e+00\n",
      "Name: DER_pt_tot_log, dtype: float64\n"
     ]
    },
    {
     "data": {
      "image/png": "[encoded data removed]",
      "text/plain": [
       "<matplotlib.figure.Figure at 0x7fa2560772d0>"
      ]
     },
     "metadata": {},
     "output_type": "display_data"
    },
    {
     "name": "stdout",
     "output_type": "stream",
     "text": [
      "DER_sum_pt_log\n",
      "nunuqie:  156098 / 250000\n",
      "count    2.500000e+05\n",
      "mean    -6.697519e-15\n",
      "std      4.864524e+00\n",
      "min     -8.246182e+00\n",
      "25%     -4.097265e+00\n",
      "50%     -5.698867e-01\n",
      "75%      3.481068e+00\n",
      "max      2.122405e+01\n",
      "Name: DER_sum_pt_log, dtype: float64\n"
     ]
    },
    {
     "data": {
      "image/png": "[encoded data removed]",
      "text/plain": [
       "<matplotlib.figure.Figure at 0x7fa2558cdbd0>"
      ]
     },
     "metadata": {},
     "output_type": "display_data"
    }
   ],
   "source": [
    "for c in train.columns:\n",
    "    if len(np.unique(train[c]))<100:\n",
    "        continue\n",
    "    print c\n",
    "    print 'nunuqie: ', len(np.unique(train[c])), '/', len(train[c])\n",
    "    print train[c].describe()\n",
    "    plt.figure(figsize=(10,5))\n",
    "    plt.hist(train[c], bins=200)\n",
    "    plt.show()\n",
    "    if len(train[train[c]<=0.]) > 40:\n",
    "        continue\n",
    "    print 'log of', c\n",
    "    plt.hist(np.log(train[train[c]>0][c]), bins=200)\n",
    "    plt.show()"
   ]
  },
  {
   "cell_type": "markdown",
   "metadata": {},
   "source": [
    "### Многие фичи имеют логнормальное распределение:\n",
    "\n",
    "DER_pt_ratio_lep_tau\n",
    "\n",
    "DER_mass_vis \n",
    "\n",
    "PRI_met\n",
    "\n",
    "PRI_met_sumet\n",
    "\n",
    "### Добавим log вместо них, а также добавим log следующих колонок (заодно отнормируем еще раз)\n",
    "DER_pt_tot\n",
    "\n",
    "DER_sum_pt\n",
    "\n",
    "### потому что они похожи на логарифм гамма-распределения\n",
    "\n"
   ]
  },
  {
   "cell_type": "code",
   "execution_count": 10,
   "metadata": {
    "collapsed": true
   },
   "outputs": [],
   "source": [
    "log_cols = ['DER_pt_ratio_lep_tau', 'DER_mass_vis', 'PRI_met', 'PRI_met_sumet']\n",
    "for col in log_cols:\n",
    "    train[col] = np.log(train[col]) - [np.mean(train[col])]*len(train)\n",
    "    test[col] = np.log(test[col]) - [np.mean(test[col])]*len(test)"
   ]
  },
  {
   "cell_type": "code",
   "execution_count": 11,
   "metadata": {
    "collapsed": false
   },
   "outputs": [
    {
     "data": {
      "text/plain": [
       "count    250000.000000\n",
       "mean         18.917332\n",
       "std          22.273494\n",
       "min           0.000000\n",
       "25%           2.841000\n",
       "50%          12.315500\n",
       "75%          27.591000\n",
       "max        2834.999000\n",
       "Name: DER_pt_tot, dtype: float64"
      ]
     },
     "execution_count": 11,
     "metadata": {},
     "output_type": "execute_result"
    }
   ],
   "source": [
    "train['DER_pt_tot'].describe()"
   ]
  },
  {
   "cell_type": "code",
   "execution_count": 12,
   "metadata": {
    "collapsed": true
   },
   "outputs": [],
   "source": [
    "gamma_log_cols = ['DER_pt_tot', 'DER_sum_pt']\n",
    "for col in gamma_log_cols:\n",
    "    # прибавим epsilon, там некоторые - нули\n",
    "    train[col+'_log'] = np.log(train[col] + [.01]*len(train)) \n",
    "    test[col+'_log'] = np.log(test[col] + [.01]*len(test)) "
   ]
  },
  {
   "cell_type": "code",
   "execution_count": 13,
   "metadata": {
    "collapsed": false
   },
   "outputs": [
    {
     "data": {
      "text/plain": [
       "((250000, 43), (550000, 43))"
      ]
     },
     "execution_count": 13,
     "metadata": {},
     "output_type": "execute_result"
    }
   ],
   "source": [
    "train.shape, test.shape"
   ]
  },
  {
   "cell_type": "markdown",
   "metadata": {},
   "source": [
    "### Отнормируем все фичи\n",
    "кроме PRI_jet_num (это категориальный признак) и всех заканчивающихся на is_na"
   ]
  },
  {
   "cell_type": "code",
   "execution_count": 14,
   "metadata": {
    "collapsed": false
   },
   "outputs": [
    {
     "data": {
      "text/plain": [
       "31"
      ]
     },
     "execution_count": 14,
     "metadata": {},
     "output_type": "execute_result"
    }
   ],
   "source": [
    "cols = set(train.columns) - set(['PRI_jet_num']) \n",
    "cols = cols - set(cat_cols)\n",
    "\n",
    "len(cols)"
   ]
  },
  {
   "cell_type": "code",
   "execution_count": 15,
   "metadata": {
    "collapsed": false
   },
   "outputs": [],
   "source": [
    "from scipy.stats import variation as var\n",
    "for c in cols:\n",
    "    train[c] = (train[c] - [train[c].mean()]*len(train))*(1./var(train[c]))\n",
    "    test[c] = (test[c] - [test[c].mean()]*len(test))*(1./var(test[c]))"
   ]
  },
  {
   "cell_type": "markdown",
   "metadata": {
    "collapsed": false
   },
   "source": [
    "### Векторизуем PRI_jet_num (4 значения)"
   ]
  },
  {
   "cell_type": "code",
   "execution_count": 16,
   "metadata": {
    "collapsed": false
   },
   "outputs": [
    {
     "name": "stdout",
     "output_type": "stream",
     "text": [
      "4 4\n"
     ]
    }
   ],
   "source": [
    "print len(np.unique(train['PRI_jet_num'])), len(np.unique(test['PRI_jet_num']))"
   ]
  },
  {
   "cell_type": "code",
   "execution_count": 17,
   "metadata": {
    "collapsed": false
   },
   "outputs": [],
   "source": [
    "train_dummy_enc = pd.get_dummies(train['PRI_jet_num'])\n",
    "test_dummy_enc = pd.get_dummies(test['PRI_jet_num'])\n",
    "\n",
    "colnames = ['PRI_jet_num_0', 'PRI_jet_num_1', 'PRI_jet_num_2', 'PRI_jet_num_3']\n",
    "train_dummy_enc.columns = colnames\n",
    "test_dummy_enc.columns = colnames\n",
    "\n",
    "train = pd.concat([train, train_dummy_enc], axis=1)\n",
    "test = pd.concat([test, test_dummy_enc], axis=1)\n",
    "\n",
    "del train['PRI_jet_num'], test['PRI_jet_num']"
   ]
  },
  {
   "cell_type": "code",
   "execution_count": 18,
   "metadata": {
    "collapsed": false
   },
   "outputs": [
    {
     "data": {
      "text/plain": [
       "((250000, 46), (550000, 46))"
      ]
     },
     "execution_count": 18,
     "metadata": {},
     "output_type": "execute_result"
    }
   ],
   "source": [
    "train.shape, test.shape"
   ]
  },
  {
   "cell_type": "code",
   "execution_count": 19,
   "metadata": {
    "collapsed": false,
    "scrolled": true
   },
   "outputs": [
    {
     "data": {
      "text/html": [
       "<div>\n",
       "<table border=\"1\" class=\"dataframe\">\n",
       "  <thead>\n",
       "    <tr style=\"text-align: right;\">\n",
       "      <th></th>\n",
       "      <th>DER_mass_MMC</th>\n",
       "      <th>DER_mass_transverse_met_lep</th>\n",
       "      <th>DER_mass_vis</th>\n",
       "      <th>DER_pt_h</th>\n",
       "      <th>DER_deltaeta_jet_jet</th>\n",
       "      <th>DER_mass_jet_jet</th>\n",
       "      <th>DER_prodeta_jet_jet</th>\n",
       "      <th>DER_deltar_tau_lep</th>\n",
       "      <th>DER_pt_tot</th>\n",
       "      <th>DER_sum_pt</th>\n",
       "      <th>...</th>\n",
       "      <th>PRI_jet_leading_phi_is_na</th>\n",
       "      <th>PRI_jet_subleading_pt_is_na</th>\n",
       "      <th>PRI_jet_subleading_eta_is_na</th>\n",
       "      <th>PRI_jet_subleading_phi_is_na</th>\n",
       "      <th>DER_pt_tot_log</th>\n",
       "      <th>DER_sum_pt_log</th>\n",
       "      <th>PRI_jet_num_0</th>\n",
       "      <th>PRI_jet_num_1</th>\n",
       "      <th>PRI_jet_num_2</th>\n",
       "      <th>PRI_jet_num_3</th>\n",
       "    </tr>\n",
       "  </thead>\n",
       "  <tbody>\n",
       "    <tr>\n",
       "      <th>0</th>\n",
       "      <td>41.12524</td>\n",
       "      <td>3.364654</td>\n",
       "      <td>-50.838982</td>\n",
       "      <td>-27.209148</td>\n",
       "      <td>-2.968014</td>\n",
       "      <td>-171.664687</td>\n",
       "      <td>-0.650157</td>\n",
       "      <td>2.094207</td>\n",
       "      <td>19.543468</td>\n",
       "      <td>53.850225</td>\n",
       "      <td>...</td>\n",
       "      <td>0</td>\n",
       "      <td>0</td>\n",
       "      <td>0</td>\n",
       "      <td>0</td>\n",
       "      <td>2.359361</td>\n",
       "      <td>3.372138</td>\n",
       "      <td>0.0</td>\n",
       "      <td>0.0</td>\n",
       "      <td>1.0</td>\n",
       "      <td>0.0</td>\n",
       "    </tr>\n",
       "  </tbody>\n",
       "</table>\n",
       "<p>1 rows × 46 columns</p>\n",
       "</div>"
      ],
      "text/plain": [
       "   DER_mass_MMC  DER_mass_transverse_met_lep  DER_mass_vis   DER_pt_h  \\\n",
       "0      41.12524                     3.364654    -50.838982 -27.209148   \n",
       "\n",
       "   DER_deltaeta_jet_jet  DER_mass_jet_jet  DER_prodeta_jet_jet  \\\n",
       "0             -2.968014       -171.664687            -0.650157   \n",
       "\n",
       "   DER_deltar_tau_lep  DER_pt_tot  DER_sum_pt      ...        \\\n",
       "0            2.094207   19.543468   53.850225      ...         \n",
       "\n",
       "   PRI_jet_leading_phi_is_na  PRI_jet_subleading_pt_is_na  \\\n",
       "0                          0                            0   \n",
       "\n",
       "   PRI_jet_subleading_eta_is_na  PRI_jet_subleading_phi_is_na  DER_pt_tot_log  \\\n",
       "0                             0                             0        2.359361   \n",
       "\n",
       "   DER_sum_pt_log  PRI_jet_num_0  PRI_jet_num_1  PRI_jet_num_2  PRI_jet_num_3  \n",
       "0        3.372138            0.0            0.0            1.0            0.0  \n",
       "\n",
       "[1 rows x 46 columns]"
      ]
     },
     "execution_count": 19,
     "metadata": {},
     "output_type": "execute_result"
    }
   ],
   "source": [
    "train.head(1)"
   ]
  },
  {
   "cell_type": "code",
   "execution_count": 20,
   "metadata": {
    "collapsed": false,
    "scrolled": true
   },
   "outputs": [
    {
     "data": {
      "text/html": [
       "<div>\n",
       "<table border=\"1\" class=\"dataframe\">\n",
       "  <thead>\n",
       "    <tr style=\"text-align: right;\">\n",
       "      <th></th>\n",
       "      <th>DER_mass_MMC</th>\n",
       "      <th>DER_mass_transverse_met_lep</th>\n",
       "      <th>DER_mass_vis</th>\n",
       "      <th>DER_pt_h</th>\n",
       "      <th>DER_deltaeta_jet_jet</th>\n",
       "      <th>DER_mass_jet_jet</th>\n",
       "      <th>DER_prodeta_jet_jet</th>\n",
       "      <th>DER_deltar_tau_lep</th>\n",
       "      <th>DER_pt_tot</th>\n",
       "      <th>DER_sum_pt</th>\n",
       "      <th>...</th>\n",
       "      <th>PRI_jet_leading_phi_is_na</th>\n",
       "      <th>PRI_jet_subleading_pt_is_na</th>\n",
       "      <th>PRI_jet_subleading_eta_is_na</th>\n",
       "      <th>PRI_jet_subleading_phi_is_na</th>\n",
       "      <th>DER_pt_tot_log</th>\n",
       "      <th>DER_sum_pt_log</th>\n",
       "      <th>PRI_jet_num_0</th>\n",
       "      <th>PRI_jet_num_1</th>\n",
       "      <th>PRI_jet_num_2</th>\n",
       "      <th>PRI_jet_num_3</th>\n",
       "    </tr>\n",
       "  </thead>\n",
       "  <tbody>\n",
       "    <tr>\n",
       "      <th>0</th>\n",
       "      <td>-18.163781</td>\n",
       "      <td>42.172742</td>\n",
       "      <td>207.317568</td>\n",
       "      <td>-50.056701</td>\n",
       "      <td>-0.205678</td>\n",
       "      <td>-50.842501</td>\n",
       "      <td>-0.036367</td>\n",
       "      <td>-4.478105</td>\n",
       "      <td>-13.91562</td>\n",
       "      <td>-140.102087</td>\n",
       "      <td>...</td>\n",
       "      <td>1</td>\n",
       "      <td>1</td>\n",
       "      <td>1</td>\n",
       "      <td>1</td>\n",
       "      <td>-1.602056</td>\n",
       "      <td>-6.683526</td>\n",
       "      <td>1.0</td>\n",
       "      <td>0.0</td>\n",
       "      <td>0.0</td>\n",
       "      <td>0.0</td>\n",
       "    </tr>\n",
       "  </tbody>\n",
       "</table>\n",
       "<p>1 rows × 46 columns</p>\n",
       "</div>"
      ],
      "text/plain": [
       "   DER_mass_MMC  DER_mass_transverse_met_lep  DER_mass_vis   DER_pt_h  \\\n",
       "0    -18.163781                    42.172742    207.317568 -50.056701   \n",
       "\n",
       "   DER_deltaeta_jet_jet  DER_mass_jet_jet  DER_prodeta_jet_jet  \\\n",
       "0             -0.205678        -50.842501            -0.036367   \n",
       "\n",
       "   DER_deltar_tau_lep  DER_pt_tot  DER_sum_pt      ...        \\\n",
       "0           -4.478105   -13.91562 -140.102087      ...         \n",
       "\n",
       "   PRI_jet_leading_phi_is_na  PRI_jet_subleading_pt_is_na  \\\n",
       "0                          1                            1   \n",
       "\n",
       "   PRI_jet_subleading_eta_is_na  PRI_jet_subleading_phi_is_na  DER_pt_tot_log  \\\n",
       "0                             1                             1       -1.602056   \n",
       "\n",
       "   DER_sum_pt_log  PRI_jet_num_0  PRI_jet_num_1  PRI_jet_num_2  PRI_jet_num_3  \n",
       "0       -6.683526            1.0            0.0            0.0            0.0  \n",
       "\n",
       "[1 rows x 46 columns]"
      ]
     },
     "execution_count": 20,
     "metadata": {},
     "output_type": "execute_result"
    }
   ],
   "source": [
    "test.head(1)"
   ]
  },
  {
   "cell_type": "code",
   "execution_count": 21,
   "metadata": {
    "collapsed": false
   },
   "outputs": [],
   "source": [
    "train.to_csv('train_preprocessed.csv')\n",
    "test.to_csv('test_preprocessed.csv')\n",
    "pd.DataFrame(weights_train).to_csv('weights_train.csv')\n",
    "pd.DataFrame(y_train).to_csv('y_train.csv')"
   ]
  },
  {
   "cell_type": "code",
   "execution_count": 22,
   "metadata": {
    "collapsed": false,
    "scrolled": true
   },
   "outputs": [
    {
     "data": {
      "text/html": [
       "<div>\n",
       "<table border=\"1\" class=\"dataframe\">\n",
       "  <thead>\n",
       "    <tr style=\"text-align: right;\">\n",
       "      <th></th>\n",
       "      <th>DER_mass_MMC</th>\n",
       "      <th>DER_mass_transverse_met_lep</th>\n",
       "      <th>DER_mass_vis</th>\n",
       "      <th>DER_pt_h</th>\n",
       "      <th>DER_deltaeta_jet_jet</th>\n",
       "      <th>DER_mass_jet_jet</th>\n",
       "      <th>DER_prodeta_jet_jet</th>\n",
       "      <th>DER_deltar_tau_lep</th>\n",
       "      <th>DER_pt_tot</th>\n",
       "      <th>DER_sum_pt</th>\n",
       "      <th>...</th>\n",
       "      <th>PRI_jet_leading_phi_is_na</th>\n",
       "      <th>PRI_jet_subleading_pt_is_na</th>\n",
       "      <th>PRI_jet_subleading_eta_is_na</th>\n",
       "      <th>PRI_jet_subleading_phi_is_na</th>\n",
       "      <th>DER_pt_tot_log</th>\n",
       "      <th>DER_sum_pt_log</th>\n",
       "      <th>PRI_jet_num_0</th>\n",
       "      <th>PRI_jet_num_1</th>\n",
       "      <th>PRI_jet_num_2</th>\n",
       "      <th>PRI_jet_num_3</th>\n",
       "    </tr>\n",
       "  </thead>\n",
       "  <tbody>\n",
       "    <tr>\n",
       "      <th>count</th>\n",
       "      <td>2.500000e+05</td>\n",
       "      <td>2.500000e+05</td>\n",
       "      <td>2.500000e+05</td>\n",
       "      <td>2.500000e+05</td>\n",
       "      <td>2.500000e+05</td>\n",
       "      <td>2.500000e+05</td>\n",
       "      <td>2.500000e+05</td>\n",
       "      <td>2.500000e+05</td>\n",
       "      <td>2.500000e+05</td>\n",
       "      <td>2.500000e+05</td>\n",
       "      <td>...</td>\n",
       "      <td>250000.000000</td>\n",
       "      <td>250000.000000</td>\n",
       "      <td>250000.000000</td>\n",
       "      <td>250000.000000</td>\n",
       "      <td>2.500000e+05</td>\n",
       "      <td>2.500000e+05</td>\n",
       "      <td>250000.000000</td>\n",
       "      <td>250000.000000</td>\n",
       "      <td>250000.000000</td>\n",
       "      <td>250000.000000</td>\n",
       "    </tr>\n",
       "    <tr>\n",
       "      <th>mean</th>\n",
       "      <td>2.696470e-14</td>\n",
       "      <td>2.089109e-15</td>\n",
       "      <td>5.220314e-12</td>\n",
       "      <td>2.495653e-15</td>\n",
       "      <td>-7.131007e-16</td>\n",
       "      <td>-2.102315e-13</td>\n",
       "      <td>-4.973799e-19</td>\n",
       "      <td>-1.216449e-15</td>\n",
       "      <td>-8.604729e-15</td>\n",
       "      <td>-1.640001e-14</td>\n",
       "      <td>...</td>\n",
       "      <td>0.399652</td>\n",
       "      <td>0.709828</td>\n",
       "      <td>0.709828</td>\n",
       "      <td>0.709828</td>\n",
       "      <td>-5.399841e-16</td>\n",
       "      <td>-6.697519e-15</td>\n",
       "      <td>0.399652</td>\n",
       "      <td>0.310176</td>\n",
       "      <td>0.201516</td>\n",
       "      <td>0.088656</td>\n",
       "    </tr>\n",
       "    <tr>\n",
       "      <th>std</th>\n",
       "      <td>1.204177e+02</td>\n",
       "      <td>4.923992e+01</td>\n",
       "      <td>7.687758e+01</td>\n",
       "      <td>5.789608e+01</td>\n",
       "      <td>2.193109e+00</td>\n",
       "      <td>2.682212e+02</td>\n",
       "      <td>4.116298e-01</td>\n",
       "      <td>2.373105e+00</td>\n",
       "      <td>1.891737e+01</td>\n",
       "      <td>1.584325e+02</td>\n",
       "      <td>...</td>\n",
       "      <td>0.489828</td>\n",
       "      <td>0.453843</td>\n",
       "      <td>0.453843</td>\n",
       "      <td>0.453843</td>\n",
       "      <td>2.173333e+00</td>\n",
       "      <td>4.864524e+00</td>\n",
       "      <td>0.489828</td>\n",
       "      <td>0.462566</td>\n",
       "      <td>0.401133</td>\n",
       "      <td>0.284247</td>\n",
       "    </tr>\n",
       "    <tr>\n",
       "      <th>min</th>\n",
       "      <td>-2.537179e+02</td>\n",
       "      <td>-6.859733e+01</td>\n",
       "      <td>-5.296221e+02</td>\n",
       "      <td>-5.265750e+01</td>\n",
       "      <td>-5.072981e+00</td>\n",
       "      <td>-3.045721e+02</td>\n",
       "      <td>-3.612762e+00</td>\n",
       "      <td>-6.562697e+00</td>\n",
       "      <td>-1.606691e+01</td>\n",
       "      <td>-1.538073e+02</td>\n",
       "      <td>...</td>\n",
       "      <td>0.000000</td>\n",
       "      <td>0.000000</td>\n",
       "      <td>0.000000</td>\n",
       "      <td>0.000000</td>\n",
       "      <td>-1.023309e+01</td>\n",
       "      <td>-8.246182e+00</td>\n",
       "      <td>0.000000</td>\n",
       "      <td>0.000000</td>\n",
       "      <td>0.000000</td>\n",
       "      <td>0.000000</td>\n",
       "    </tr>\n",
       "    <tr>\n",
       "      <th>25%</th>\n",
       "      <td>-5.638809e+01</td>\n",
       "      <td>-4.179217e+01</td>\n",
       "      <td>-4.014723e+01</td>\n",
       "      <td>-3.986170e+01</td>\n",
       "      <td>-1.991720e-01</td>\n",
       "      <td>-5.064142e+01</td>\n",
       "      <td>-3.541203e-02</td>\n",
       "      <td>-1.706828e+00</td>\n",
       "      <td>-1.365398e+01</td>\n",
       "      <td>-1.107493e+02</td>\n",
       "      <td>...</td>\n",
       "      <td>0.000000</td>\n",
       "      <td>0.000000</td>\n",
       "      <td>0.000000</td>\n",
       "      <td>0.000000</td>\n",
       "      <td>-1.699339e+00</td>\n",
       "      <td>-4.097265e+00</td>\n",
       "      <td>0.000000</td>\n",
       "      <td>0.000000</td>\n",
       "      <td>0.000000</td>\n",
       "      <td>0.000000</td>\n",
       "    </tr>\n",
       "    <tr>\n",
       "      <th>50%</th>\n",
       "      <td>-1.825071e+01</td>\n",
       "      <td>-3.783481e+00</td>\n",
       "      <td>7.019619e-01</td>\n",
       "      <td>-1.767056e+01</td>\n",
       "      <td>-1.991720e-01</td>\n",
       "      <td>-5.064142e+01</td>\n",
       "      <td>-3.541203e-02</td>\n",
       "      <td>3.588861e-01</td>\n",
       "      <td>-5.607082e+00</td>\n",
       "      <td>-5.171408e+01</td>\n",
       "      <td>...</td>\n",
       "      <td>0.000000</td>\n",
       "      <td>1.000000</td>\n",
       "      <td>1.000000</td>\n",
       "      <td>1.000000</td>\n",
       "      <td>5.107740e-01</td>\n",
       "      <td>-5.698867e-01</td>\n",
       "      <td>0.000000</td>\n",
       "      <td>0.000000</td>\n",
       "      <td>0.000000</td>\n",
       "      <td>0.000000</td>\n",
       "    </tr>\n",
       "    <tr>\n",
       "      <th>75%</th>\n",
       "      <td>2.321097e+01</td>\n",
       "      <td>3.393404e+01</td>\n",
       "      <td>4.022138e+01</td>\n",
       "      <td>1.934824e+01</td>\n",
       "      <td>-1.991720e-01</td>\n",
       "      <td>-5.064142e+01</td>\n",
       "      <td>-3.541203e-02</td>\n",
       "      <td>1.782001e+00</td>\n",
       "      <td>7.366737e+00</td>\n",
       "      <td>5.757223e+01</td>\n",
       "      <td>...</td>\n",
       "      <td>1.000000</td>\n",
       "      <td>1.000000</td>\n",
       "      <td>1.000000</td>\n",
       "      <td>1.000000</td>\n",
       "      <td>1.727818e+00</td>\n",
       "      <td>3.481068e+00</td>\n",
       "      <td>1.000000</td>\n",
       "      <td>1.000000</td>\n",
       "      <td>0.000000</td>\n",
       "      <td>0.000000</td>\n",
       "    </tr>\n",
       "    <tr>\n",
       "      <th>max</th>\n",
       "      <td>2.441213e+03</td>\n",
       "      <td>8.927649e+02</td>\n",
       "      <td>4.487216e+02</td>\n",
       "      <td>2.525829e+03</td>\n",
       "      <td>1.459574e+01</td>\n",
       "      <td>5.630175e+03</td>\n",
       "      <td>3.729530e+00</td>\n",
       "      <td>1.003577e+01</td>\n",
       "      <td>2.391760e+03</td>\n",
       "      <td>2.319579e+03</td>\n",
       "      <td>...</td>\n",
       "      <td>1.000000</td>\n",
       "      <td>1.000000</td>\n",
       "      <td>1.000000</td>\n",
       "      <td>1.000000</td>\n",
       "      <td>8.720390e+00</td>\n",
       "      <td>2.122405e+01</td>\n",
       "      <td>1.000000</td>\n",
       "      <td>1.000000</td>\n",
       "      <td>1.000000</td>\n",
       "      <td>1.000000</td>\n",
       "    </tr>\n",
       "  </tbody>\n",
       "</table>\n",
       "<p>8 rows × 46 columns</p>\n",
       "</div>"
      ],
      "text/plain": [
       "       DER_mass_MMC  DER_mass_transverse_met_lep  DER_mass_vis      DER_pt_h  \\\n",
       "count  2.500000e+05                 2.500000e+05  2.500000e+05  2.500000e+05   \n",
       "mean   2.696470e-14                 2.089109e-15  5.220314e-12  2.495653e-15   \n",
       "std    1.204177e+02                 4.923992e+01  7.687758e+01  5.789608e+01   \n",
       "min   -2.537179e+02                -6.859733e+01 -5.296221e+02 -5.265750e+01   \n",
       "25%   -5.638809e+01                -4.179217e+01 -4.014723e+01 -3.986170e+01   \n",
       "50%   -1.825071e+01                -3.783481e+00  7.019619e-01 -1.767056e+01   \n",
       "75%    2.321097e+01                 3.393404e+01  4.022138e+01  1.934824e+01   \n",
       "max    2.441213e+03                 8.927649e+02  4.487216e+02  2.525829e+03   \n",
       "\n",
       "       DER_deltaeta_jet_jet  DER_mass_jet_jet  DER_prodeta_jet_jet  \\\n",
       "count          2.500000e+05      2.500000e+05         2.500000e+05   \n",
       "mean          -7.131007e-16     -2.102315e-13        -4.973799e-19   \n",
       "std            2.193109e+00      2.682212e+02         4.116298e-01   \n",
       "min           -5.072981e+00     -3.045721e+02        -3.612762e+00   \n",
       "25%           -1.991720e-01     -5.064142e+01        -3.541203e-02   \n",
       "50%           -1.991720e-01     -5.064142e+01        -3.541203e-02   \n",
       "75%           -1.991720e-01     -5.064142e+01        -3.541203e-02   \n",
       "max            1.459574e+01      5.630175e+03         3.729530e+00   \n",
       "\n",
       "       DER_deltar_tau_lep    DER_pt_tot    DER_sum_pt      ...        \\\n",
       "count        2.500000e+05  2.500000e+05  2.500000e+05      ...         \n",
       "mean        -1.216449e-15 -8.604729e-15 -1.640001e-14      ...         \n",
       "std          2.373105e+00  1.891737e+01  1.584325e+02      ...         \n",
       "min         -6.562697e+00 -1.606691e+01 -1.538073e+02      ...         \n",
       "25%         -1.706828e+00 -1.365398e+01 -1.107493e+02      ...         \n",
       "50%          3.588861e-01 -5.607082e+00 -5.171408e+01      ...         \n",
       "75%          1.782001e+00  7.366737e+00  5.757223e+01      ...         \n",
       "max          1.003577e+01  2.391760e+03  2.319579e+03      ...         \n",
       "\n",
       "       PRI_jet_leading_phi_is_na  PRI_jet_subleading_pt_is_na  \\\n",
       "count              250000.000000                250000.000000   \n",
       "mean                    0.399652                     0.709828   \n",
       "std                     0.489828                     0.453843   \n",
       "min                     0.000000                     0.000000   \n",
       "25%                     0.000000                     0.000000   \n",
       "50%                     0.000000                     1.000000   \n",
       "75%                     1.000000                     1.000000   \n",
       "max                     1.000000                     1.000000   \n",
       "\n",
       "       PRI_jet_subleading_eta_is_na  PRI_jet_subleading_phi_is_na  \\\n",
       "count                 250000.000000                 250000.000000   \n",
       "mean                       0.709828                      0.709828   \n",
       "std                        0.453843                      0.453843   \n",
       "min                        0.000000                      0.000000   \n",
       "25%                        0.000000                      0.000000   \n",
       "50%                        1.000000                      1.000000   \n",
       "75%                        1.000000                      1.000000   \n",
       "max                        1.000000                      1.000000   \n",
       "\n",
       "       DER_pt_tot_log  DER_sum_pt_log  PRI_jet_num_0  PRI_jet_num_1  \\\n",
       "count    2.500000e+05    2.500000e+05  250000.000000  250000.000000   \n",
       "mean    -5.399841e-16   -6.697519e-15       0.399652       0.310176   \n",
       "std      2.173333e+00    4.864524e+00       0.489828       0.462566   \n",
       "min     -1.023309e+01   -8.246182e+00       0.000000       0.000000   \n",
       "25%     -1.699339e+00   -4.097265e+00       0.000000       0.000000   \n",
       "50%      5.107740e-01   -5.698867e-01       0.000000       0.000000   \n",
       "75%      1.727818e+00    3.481068e+00       1.000000       1.000000   \n",
       "max      8.720390e+00    2.122405e+01       1.000000       1.000000   \n",
       "\n",
       "       PRI_jet_num_2  PRI_jet_num_3  \n",
       "count  250000.000000  250000.000000  \n",
       "mean        0.201516       0.088656  \n",
       "std         0.401133       0.284247  \n",
       "min         0.000000       0.000000  \n",
       "25%         0.000000       0.000000  \n",
       "50%         0.000000       0.000000  \n",
       "75%         0.000000       0.000000  \n",
       "max         1.000000       1.000000  \n",
       "\n",
       "[8 rows x 46 columns]"
      ]
     },
     "execution_count": 22,
     "metadata": {},
     "output_type": "execute_result"
    }
   ],
   "source": [
    "train.describe()"
   ]
  },
  {
   "cell_type": "code",
   "execution_count": 23,
   "metadata": {
    "collapsed": false,
    "scrolled": true
   },
   "outputs": [
    {
     "data": {
      "text/html": [
       "<div>\n",
       "<table border=\"1\" class=\"dataframe\">\n",
       "  <thead>\n",
       "    <tr style=\"text-align: right;\">\n",
       "      <th></th>\n",
       "      <th>DER_mass_MMC</th>\n",
       "      <th>DER_mass_transverse_met_lep</th>\n",
       "      <th>DER_mass_vis</th>\n",
       "      <th>DER_pt_h</th>\n",
       "      <th>DER_deltaeta_jet_jet</th>\n",
       "      <th>DER_mass_jet_jet</th>\n",
       "      <th>DER_prodeta_jet_jet</th>\n",
       "      <th>DER_deltar_tau_lep</th>\n",
       "      <th>DER_pt_tot</th>\n",
       "      <th>DER_sum_pt</th>\n",
       "      <th>...</th>\n",
       "      <th>PRI_jet_leading_phi_is_na</th>\n",
       "      <th>PRI_jet_subleading_pt_is_na</th>\n",
       "      <th>PRI_jet_subleading_eta_is_na</th>\n",
       "      <th>PRI_jet_subleading_phi_is_na</th>\n",
       "      <th>DER_pt_tot_log</th>\n",
       "      <th>DER_sum_pt_log</th>\n",
       "      <th>PRI_jet_num_0</th>\n",
       "      <th>PRI_jet_num_1</th>\n",
       "      <th>PRI_jet_num_2</th>\n",
       "      <th>PRI_jet_num_3</th>\n",
       "    </tr>\n",
       "  </thead>\n",
       "  <tbody>\n",
       "    <tr>\n",
       "      <th>count</th>\n",
       "      <td>5.500000e+05</td>\n",
       "      <td>5.500000e+05</td>\n",
       "      <td>5.500000e+05</td>\n",
       "      <td>5.500000e+05</td>\n",
       "      <td>5.500000e+05</td>\n",
       "      <td>5.500000e+05</td>\n",
       "      <td>5.500000e+05</td>\n",
       "      <td>5.500000e+05</td>\n",
       "      <td>5.500000e+05</td>\n",
       "      <td>5.500000e+05</td>\n",
       "      <td>...</td>\n",
       "      <td>550000.000000</td>\n",
       "      <td>550000.000000</td>\n",
       "      <td>550000.000000</td>\n",
       "      <td>550000.000000</td>\n",
       "      <td>5.500000e+05</td>\n",
       "      <td>5.500000e+05</td>\n",
       "      <td>550000.000000</td>\n",
       "      <td>550000.000000</td>\n",
       "      <td>550000.000000</td>\n",
       "      <td>550000.000000</td>\n",
       "    </tr>\n",
       "    <tr>\n",
       "      <th>mean</th>\n",
       "      <td>-4.975763e-15</td>\n",
       "      <td>-1.599801e-14</td>\n",
       "      <td>4.120510e-12</td>\n",
       "      <td>1.247248e-15</td>\n",
       "      <td>2.988284e-16</td>\n",
       "      <td>2.258358e-14</td>\n",
       "      <td>-2.104660e-17</td>\n",
       "      <td>6.435192e-16</td>\n",
       "      <td>2.014117e-15</td>\n",
       "      <td>1.811383e-14</td>\n",
       "      <td>...</td>\n",
       "      <td>0.400284</td>\n",
       "      <td>0.708858</td>\n",
       "      <td>0.708858</td>\n",
       "      <td>0.708858</td>\n",
       "      <td>1.340859e-15</td>\n",
       "      <td>-7.248053e-16</td>\n",
       "      <td>0.400284</td>\n",
       "      <td>0.308575</td>\n",
       "      <td>0.201829</td>\n",
       "      <td>0.089313</td>\n",
       "    </tr>\n",
       "    <tr>\n",
       "      <th>std</th>\n",
       "      <td>1.204551e+02</td>\n",
       "      <td>4.926114e+01</td>\n",
       "      <td>7.681907e+01</td>\n",
       "      <td>5.782485e+01</td>\n",
       "      <td>2.188341e+00</td>\n",
       "      <td>2.688058e+02</td>\n",
       "      <td>4.150627e-01</td>\n",
       "      <td>2.374078e+00</td>\n",
       "      <td>1.898829e+01</td>\n",
       "      <td>1.586599e+02</td>\n",
       "      <td>...</td>\n",
       "      <td>0.489956</td>\n",
       "      <td>0.454289</td>\n",
       "      <td>0.454289</td>\n",
       "      <td>0.454289</td>\n",
       "      <td>2.175269e+00</td>\n",
       "      <td>4.865122e+00</td>\n",
       "      <td>0.489956</td>\n",
       "      <td>0.461905</td>\n",
       "      <td>0.401366</td>\n",
       "      <td>0.285195</td>\n",
       "    </tr>\n",
       "    <tr>\n",
       "      <th>min</th>\n",
       "      <td>-2.560327e+02</td>\n",
       "      <td>-6.850045e+01</td>\n",
       "      <td>-5.204931e+02</td>\n",
       "      <td>-5.283048e+01</td>\n",
       "      <td>-5.038032e+00</td>\n",
       "      <td>-3.026838e+02</td>\n",
       "      <td>-3.764821e+00</td>\n",
       "      <td>-6.505477e+00</td>\n",
       "      <td>-1.656401e+01</td>\n",
       "      <td>-1.536357e+02</td>\n",
       "      <td>...</td>\n",
       "      <td>0.000000</td>\n",
       "      <td>0.000000</td>\n",
       "      <td>0.000000</td>\n",
       "      <td>0.000000</td>\n",
       "      <td>-1.023389e+01</td>\n",
       "      <td>-8.234478e+00</td>\n",
       "      <td>0.000000</td>\n",
       "      <td>0.000000</td>\n",
       "      <td>0.000000</td>\n",
       "      <td>0.000000</td>\n",
       "    </tr>\n",
       "    <tr>\n",
       "      <th>25%</th>\n",
       "      <td>-5.700224e+01</td>\n",
       "      <td>-4.164459e+01</td>\n",
       "      <td>-4.012225e+01</td>\n",
       "      <td>-3.986424e+01</td>\n",
       "      <td>-2.056777e-01</td>\n",
       "      <td>-5.084250e+01</td>\n",
       "      <td>-3.636664e-02</td>\n",
       "      <td>-1.701885e+00</td>\n",
       "      <td>-1.408834e+01</td>\n",
       "      <td>-1.108196e+02</td>\n",
       "      <td>...</td>\n",
       "      <td>0.000000</td>\n",
       "      <td>0.000000</td>\n",
       "      <td>0.000000</td>\n",
       "      <td>0.000000</td>\n",
       "      <td>-1.703501e+00</td>\n",
       "      <td>-4.101898e+00</td>\n",
       "      <td>0.000000</td>\n",
       "      <td>0.000000</td>\n",
       "      <td>0.000000</td>\n",
       "      <td>0.000000</td>\n",
       "    </tr>\n",
       "    <tr>\n",
       "      <th>50%</th>\n",
       "      <td>-1.816378e+01</td>\n",
       "      <td>-3.901343e+00</td>\n",
       "      <td>7.827533e-01</td>\n",
       "      <td>-1.768359e+01</td>\n",
       "      <td>-2.056777e-01</td>\n",
       "      <td>-5.084250e+01</td>\n",
       "      <td>-3.636664e-02</td>\n",
       "      <td>3.589723e-01</td>\n",
       "      <td>-5.755862e+00</td>\n",
       "      <td>-5.181157e+01</td>\n",
       "      <td>...</td>\n",
       "      <td>0.000000</td>\n",
       "      <td>1.000000</td>\n",
       "      <td>1.000000</td>\n",
       "      <td>1.000000</td>\n",
       "      <td>5.168376e-01</td>\n",
       "      <td>-5.710994e-01</td>\n",
       "      <td>0.000000</td>\n",
       "      <td>0.000000</td>\n",
       "      <td>0.000000</td>\n",
       "      <td>0.000000</td>\n",
       "    </tr>\n",
       "    <tr>\n",
       "      <th>75%</th>\n",
       "      <td>2.371691e+01</td>\n",
       "      <td>3.390865e+01</td>\n",
       "      <td>4.039452e+01</td>\n",
       "      <td>1.956032e+01</td>\n",
       "      <td>-2.056777e-01</td>\n",
       "      <td>-5.084250e+01</td>\n",
       "      <td>-3.636664e-02</td>\n",
       "      <td>1.789700e+00</td>\n",
       "      <td>7.554992e+00</td>\n",
       "      <td>5.781740e+01</td>\n",
       "      <td>...</td>\n",
       "      <td>1.000000</td>\n",
       "      <td>1.000000</td>\n",
       "      <td>1.000000</td>\n",
       "      <td>1.000000</td>\n",
       "      <td>1.727702e+00</td>\n",
       "      <td>3.490629e+00</td>\n",
       "      <td>1.000000</td>\n",
       "      <td>1.000000</td>\n",
       "      <td>0.000000</td>\n",
       "      <td>0.000000</td>\n",
       "    </tr>\n",
       "    <tr>\n",
       "      <th>max</th>\n",
       "      <td>4.205329e+03</td>\n",
       "      <td>1.278491e+03</td>\n",
       "      <td>4.377070e+02</td>\n",
       "      <td>1.168864e+03</td>\n",
       "      <td>1.504651e+01</td>\n",
       "      <td>5.404335e+03</td>\n",
       "      <td>3.953577e+00</td>\n",
       "      <td>1.027970e+01</td>\n",
       "      <td>6.458497e+02</td>\n",
       "      <td>2.621413e+03</td>\n",
       "      <td>...</td>\n",
       "      <td>1.000000</td>\n",
       "      <td>1.000000</td>\n",
       "      <td>1.000000</td>\n",
       "      <td>1.000000</td>\n",
       "      <td>6.727408e+00</td>\n",
       "      <td>2.209569e+01</td>\n",
       "      <td>1.000000</td>\n",
       "      <td>1.000000</td>\n",
       "      <td>1.000000</td>\n",
       "      <td>1.000000</td>\n",
       "    </tr>\n",
       "  </tbody>\n",
       "</table>\n",
       "<p>8 rows × 46 columns</p>\n",
       "</div>"
      ],
      "text/plain": [
       "       DER_mass_MMC  DER_mass_transverse_met_lep  DER_mass_vis      DER_pt_h  \\\n",
       "count  5.500000e+05                 5.500000e+05  5.500000e+05  5.500000e+05   \n",
       "mean  -4.975763e-15                -1.599801e-14  4.120510e-12  1.247248e-15   \n",
       "std    1.204551e+02                 4.926114e+01  7.681907e+01  5.782485e+01   \n",
       "min   -2.560327e+02                -6.850045e+01 -5.204931e+02 -5.283048e+01   \n",
       "25%   -5.700224e+01                -4.164459e+01 -4.012225e+01 -3.986424e+01   \n",
       "50%   -1.816378e+01                -3.901343e+00  7.827533e-01 -1.768359e+01   \n",
       "75%    2.371691e+01                 3.390865e+01  4.039452e+01  1.956032e+01   \n",
       "max    4.205329e+03                 1.278491e+03  4.377070e+02  1.168864e+03   \n",
       "\n",
       "       DER_deltaeta_jet_jet  DER_mass_jet_jet  DER_prodeta_jet_jet  \\\n",
       "count          5.500000e+05      5.500000e+05         5.500000e+05   \n",
       "mean           2.988284e-16      2.258358e-14        -2.104660e-17   \n",
       "std            2.188341e+00      2.688058e+02         4.150627e-01   \n",
       "min           -5.038032e+00     -3.026838e+02        -3.764821e+00   \n",
       "25%           -2.056777e-01     -5.084250e+01        -3.636664e-02   \n",
       "50%           -2.056777e-01     -5.084250e+01        -3.636664e-02   \n",
       "75%           -2.056777e-01     -5.084250e+01        -3.636664e-02   \n",
       "max            1.504651e+01      5.404335e+03         3.953577e+00   \n",
       "\n",
       "       DER_deltar_tau_lep    DER_pt_tot    DER_sum_pt      ...        \\\n",
       "count        5.500000e+05  5.500000e+05  5.500000e+05      ...         \n",
       "mean         6.435192e-16  2.014117e-15  1.811383e-14      ...         \n",
       "std          2.374078e+00  1.898829e+01  1.586599e+02      ...         \n",
       "min         -6.505477e+00 -1.656401e+01 -1.536357e+02      ...         \n",
       "25%         -1.701885e+00 -1.408834e+01 -1.108196e+02      ...         \n",
       "50%          3.589723e-01 -5.755862e+00 -5.181157e+01      ...         \n",
       "75%          1.789700e+00  7.554992e+00  5.781740e+01      ...         \n",
       "max          1.027970e+01  6.458497e+02  2.621413e+03      ...         \n",
       "\n",
       "       PRI_jet_leading_phi_is_na  PRI_jet_subleading_pt_is_na  \\\n",
       "count              550000.000000                550000.000000   \n",
       "mean                    0.400284                     0.708858   \n",
       "std                     0.489956                     0.454289   \n",
       "min                     0.000000                     0.000000   \n",
       "25%                     0.000000                     0.000000   \n",
       "50%                     0.000000                     1.000000   \n",
       "75%                     1.000000                     1.000000   \n",
       "max                     1.000000                     1.000000   \n",
       "\n",
       "       PRI_jet_subleading_eta_is_na  PRI_jet_subleading_phi_is_na  \\\n",
       "count                 550000.000000                 550000.000000   \n",
       "mean                       0.708858                      0.708858   \n",
       "std                        0.454289                      0.454289   \n",
       "min                        0.000000                      0.000000   \n",
       "25%                        0.000000                      0.000000   \n",
       "50%                        1.000000                      1.000000   \n",
       "75%                        1.000000                      1.000000   \n",
       "max                        1.000000                      1.000000   \n",
       "\n",
       "       DER_pt_tot_log  DER_sum_pt_log  PRI_jet_num_0  PRI_jet_num_1  \\\n",
       "count    5.500000e+05    5.500000e+05  550000.000000  550000.000000   \n",
       "mean     1.340859e-15   -7.248053e-16       0.400284       0.308575   \n",
       "std      2.175269e+00    4.865122e+00       0.489956       0.461905   \n",
       "min     -1.023389e+01   -8.234478e+00       0.000000       0.000000   \n",
       "25%     -1.703501e+00   -4.101898e+00       0.000000       0.000000   \n",
       "50%      5.168376e-01   -5.710994e-01       0.000000       0.000000   \n",
       "75%      1.727702e+00    3.490629e+00       1.000000       1.000000   \n",
       "max      6.727408e+00    2.209569e+01       1.000000       1.000000   \n",
       "\n",
       "       PRI_jet_num_2  PRI_jet_num_3  \n",
       "count  550000.000000  550000.000000  \n",
       "mean        0.201829       0.089313  \n",
       "std         0.401366       0.285195  \n",
       "min         0.000000       0.000000  \n",
       "25%         0.000000       0.000000  \n",
       "50%         0.000000       0.000000  \n",
       "75%         0.000000       0.000000  \n",
       "max         1.000000       1.000000  \n",
       "\n",
       "[8 rows x 46 columns]"
      ]
     },
     "execution_count": 23,
     "metadata": {},
     "output_type": "execute_result"
    }
   ],
   "source": [
    "test.describe()"
   ]
  },
  {
   "cell_type": "code",
   "execution_count": null,
   "metadata": {
    "collapsed": true
   },
   "outputs": [],
   "source": []
  }
 ],
 "metadata": {
  "kernelspec": {
   "display_name": "Python 2",
   "language": "python",
   "name": "python2"
  },
  "language_info": {
   "codemirror_mode": {
    "name": "ipython",
    "version": 2
   },
   "file_extension": ".py",
   "mimetype": "text/x-python",
   "name": "python",
   "nbconvert_exporter": "python",
   "pygments_lexer": "ipython2",
   "version": "2.7.11"
  },
  "notify_time": "5"
 },
 "nbformat": 4,
 "nbformat_minor": 0
}
