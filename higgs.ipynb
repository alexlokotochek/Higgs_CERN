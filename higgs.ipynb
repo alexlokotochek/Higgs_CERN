{
 "cells": [
  {
   "cell_type": "code",
   "execution_count": 1,
   "metadata": {
    "collapsed": false
   },
   "outputs": [],
   "source": [
    "import pandas as pd\n",
    "import numpy as np\n",
    "from matplotlib import pyplot as plt\n",
    "import seaborn as sns\n",
    "\n",
    "%matplotlib inline"
   ]
  },
  {
   "cell_type": "code",
   "execution_count": 2,
   "metadata": {
    "collapsed": false
   },
   "outputs": [],
   "source": [
    "train = pd.read_csv('./training.csv').drop('EventId', 1)\n",
    "test = pd.read_csv('./test.csv').drop('EventId', 1)"
   ]
  },
  {
   "cell_type": "code",
   "execution_count": 3,
   "metadata": {
    "collapsed": false
   },
   "outputs": [
    {
     "data": {
      "text/html": [
       "<div>\n",
       "<table border=\"1\" class=\"dataframe\">\n",
       "  <thead>\n",
       "    <tr style=\"text-align: right;\">\n",
       "      <th></th>\n",
       "      <th>DER_mass_MMC</th>\n",
       "      <th>DER_mass_transverse_met_lep</th>\n",
       "      <th>DER_mass_vis</th>\n",
       "      <th>DER_pt_h</th>\n",
       "      <th>DER_deltaeta_jet_jet</th>\n",
       "      <th>DER_mass_jet_jet</th>\n",
       "      <th>DER_prodeta_jet_jet</th>\n",
       "      <th>DER_deltar_tau_lep</th>\n",
       "      <th>DER_pt_tot</th>\n",
       "      <th>DER_sum_pt</th>\n",
       "      <th>...</th>\n",
       "      <th>PRI_jet_num</th>\n",
       "      <th>PRI_jet_leading_pt</th>\n",
       "      <th>PRI_jet_leading_eta</th>\n",
       "      <th>PRI_jet_leading_phi</th>\n",
       "      <th>PRI_jet_subleading_pt</th>\n",
       "      <th>PRI_jet_subleading_eta</th>\n",
       "      <th>PRI_jet_subleading_phi</th>\n",
       "      <th>PRI_jet_all_pt</th>\n",
       "      <th>Weight</th>\n",
       "      <th>Label</th>\n",
       "    </tr>\n",
       "  </thead>\n",
       "  <tbody>\n",
       "    <tr>\n",
       "      <th>0</th>\n",
       "      <td>138.47</td>\n",
       "      <td>51.655</td>\n",
       "      <td>97.827</td>\n",
       "      <td>27.98</td>\n",
       "      <td>0.91</td>\n",
       "      <td>124.711</td>\n",
       "      <td>2.666</td>\n",
       "      <td>3.064</td>\n",
       "      <td>41.928</td>\n",
       "      <td>197.76</td>\n",
       "      <td>...</td>\n",
       "      <td>2</td>\n",
       "      <td>67.435</td>\n",
       "      <td>2.15</td>\n",
       "      <td>0.444</td>\n",
       "      <td>46.062</td>\n",
       "      <td>1.24</td>\n",
       "      <td>-2.475</td>\n",
       "      <td>113.497</td>\n",
       "      <td>0.002653</td>\n",
       "      <td>s</td>\n",
       "    </tr>\n",
       "  </tbody>\n",
       "</table>\n",
       "<p>1 rows × 32 columns</p>\n",
       "</div>"
      ],
      "text/plain": [
       "   DER_mass_MMC  DER_mass_transverse_met_lep  DER_mass_vis  DER_pt_h  \\\n",
       "0        138.47                       51.655        97.827     27.98   \n",
       "\n",
       "   DER_deltaeta_jet_jet  DER_mass_jet_jet  DER_prodeta_jet_jet  \\\n",
       "0                  0.91           124.711                2.666   \n",
       "\n",
       "   DER_deltar_tau_lep  DER_pt_tot  DER_sum_pt  ...    PRI_jet_num  \\\n",
       "0               3.064      41.928      197.76  ...              2   \n",
       "\n",
       "   PRI_jet_leading_pt  PRI_jet_leading_eta  PRI_jet_leading_phi  \\\n",
       "0              67.435                 2.15                0.444   \n",
       "\n",
       "   PRI_jet_subleading_pt  PRI_jet_subleading_eta  PRI_jet_subleading_phi  \\\n",
       "0                 46.062                    1.24                  -2.475   \n",
       "\n",
       "   PRI_jet_all_pt    Weight  Label  \n",
       "0         113.497  0.002653      s  \n",
       "\n",
       "[1 rows x 32 columns]"
      ]
     },
     "execution_count": 3,
     "metadata": {},
     "output_type": "execute_result"
    }
   ],
   "source": [
    "train.head(1)"
   ]
  },
  {
   "cell_type": "code",
   "execution_count": 4,
   "metadata": {
    "collapsed": false
   },
   "outputs": [
    {
     "data": {
      "text/html": [
       "<div>\n",
       "<table border=\"1\" class=\"dataframe\">\n",
       "  <thead>\n",
       "    <tr style=\"text-align: right;\">\n",
       "      <th></th>\n",
       "      <th>DER_mass_MMC</th>\n",
       "      <th>DER_mass_transverse_met_lep</th>\n",
       "      <th>DER_mass_vis</th>\n",
       "      <th>DER_pt_h</th>\n",
       "      <th>DER_deltaeta_jet_jet</th>\n",
       "      <th>DER_mass_jet_jet</th>\n",
       "      <th>DER_prodeta_jet_jet</th>\n",
       "      <th>DER_deltar_tau_lep</th>\n",
       "      <th>DER_pt_tot</th>\n",
       "      <th>DER_sum_pt</th>\n",
       "      <th>...</th>\n",
       "      <th>PRI_met_phi</th>\n",
       "      <th>PRI_met_sumet</th>\n",
       "      <th>PRI_jet_num</th>\n",
       "      <th>PRI_jet_leading_pt</th>\n",
       "      <th>PRI_jet_leading_eta</th>\n",
       "      <th>PRI_jet_leading_phi</th>\n",
       "      <th>PRI_jet_subleading_pt</th>\n",
       "      <th>PRI_jet_subleading_eta</th>\n",
       "      <th>PRI_jet_subleading_phi</th>\n",
       "      <th>PRI_jet_all_pt</th>\n",
       "    </tr>\n",
       "  </thead>\n",
       "  <tbody>\n",
       "    <tr>\n",
       "      <th>0</th>\n",
       "      <td>-999.0</td>\n",
       "      <td>79.589</td>\n",
       "      <td>23.916</td>\n",
       "      <td>3.036</td>\n",
       "      <td>-999.0</td>\n",
       "      <td>-999.0</td>\n",
       "      <td>-999.0</td>\n",
       "      <td>0.903</td>\n",
       "      <td>3.036</td>\n",
       "      <td>56.018</td>\n",
       "      <td>...</td>\n",
       "      <td>2.022</td>\n",
       "      <td>98.556</td>\n",
       "      <td>0</td>\n",
       "      <td>-999.0</td>\n",
       "      <td>-999.0</td>\n",
       "      <td>-999.0</td>\n",
       "      <td>-999.0</td>\n",
       "      <td>-999.0</td>\n",
       "      <td>-999.0</td>\n",
       "      <td>-0.0</td>\n",
       "    </tr>\n",
       "  </tbody>\n",
       "</table>\n",
       "<p>1 rows × 30 columns</p>\n",
       "</div>"
      ],
      "text/plain": [
       "   DER_mass_MMC  DER_mass_transverse_met_lep  DER_mass_vis  DER_pt_h  \\\n",
       "0        -999.0                       79.589        23.916     3.036   \n",
       "\n",
       "   DER_deltaeta_jet_jet  DER_mass_jet_jet  DER_prodeta_jet_jet  \\\n",
       "0                -999.0            -999.0               -999.0   \n",
       "\n",
       "   DER_deltar_tau_lep  DER_pt_tot  DER_sum_pt       ...        PRI_met_phi  \\\n",
       "0               0.903       3.036      56.018       ...              2.022   \n",
       "\n",
       "   PRI_met_sumet  PRI_jet_num  PRI_jet_leading_pt  PRI_jet_leading_eta  \\\n",
       "0         98.556            0              -999.0               -999.0   \n",
       "\n",
       "   PRI_jet_leading_phi  PRI_jet_subleading_pt  PRI_jet_subleading_eta  \\\n",
       "0               -999.0                 -999.0                  -999.0   \n",
       "\n",
       "   PRI_jet_subleading_phi  PRI_jet_all_pt  \n",
       "0                  -999.0            -0.0  \n",
       "\n",
       "[1 rows x 30 columns]"
      ]
     },
     "execution_count": 4,
     "metadata": {},
     "output_type": "execute_result"
    }
   ],
   "source": [
    "test.head(1)"
   ]
  },
  {
   "cell_type": "code",
   "execution_count": 5,
   "metadata": {
    "collapsed": false
   },
   "outputs": [
    {
     "name": "stdout",
     "output_type": "stream",
     "text": [
      "(250000, 30) (550000, 30)\n"
     ]
    }
   ],
   "source": [
    "y_train, weights_train = train['Label'], train['Weight']\n",
    "y_train = [1 if t == 's' else 0 for t in y_train]\n",
    "train = train[test.columns]\n",
    "\n",
    "print train.shape, test.shape"
   ]
  },
  {
   "cell_type": "markdown",
   "metadata": {},
   "source": [
    "### Заменим -999 (n/a) на средние значения и добавим соотв. фичи"
   ]
  },
  {
   "cell_type": "code",
   "execution_count": 6,
   "metadata": {
    "collapsed": true
   },
   "outputs": [],
   "source": [
    "cat_cols = []\n",
    "def fillna(X):\n",
    "    old_cols = X.columns\n",
    "    for c in old_cols:\n",
    "        if (len(X[X[c]==-999.]) > 0):\n",
    "            # если n/a встречаются часто\n",
    "            if (len(X[X[c]==-999.]) > 10):\n",
    "                newname = c + '_is_na'\n",
    "                cat_cols.append(newname)\n",
    "                X[newname] = [1 if x==-999. else 0 for x in X[c]]\n",
    "            mean = X[X[c]!=-999.][c].mean()\n",
    "            X[c] = X[c].replace(-999., mean)\n",
    "\n",
    "fillna(train)\n",
    "fillna(test)"
   ]
  },
  {
   "cell_type": "code",
   "execution_count": 7,
   "metadata": {
    "collapsed": false,
    "scrolled": true
   },
   "outputs": [
    {
     "data": {
      "text/plain": [
       "((250000, 41), (550000, 41))"
      ]
     },
     "execution_count": 7,
     "metadata": {},
     "output_type": "execute_result"
    }
   ],
   "source": [
    "train.shape, test.shape"
   ]
  },
  {
   "cell_type": "markdown",
   "metadata": {},
   "source": [
    "## Посмотрим на распределения фичей"
   ]
  },
  {
   "cell_type": "code",
   "execution_count": 8,
   "metadata": {
    "collapsed": false
   },
   "outputs": [
    {
     "data": {
      "application/javascript": [
       "// IPython.OutputArea.auto_scroll_threshold = 9999;\n",
       "IPython.OutputArea.auto_scroll_threshold = 200;\n",
       "//(посмотрим на распределение всех фичей, потом сделать 200 !!!)"
      ],
      "text/plain": [
       "<IPython.core.display.Javascript object>"
      ]
     },
     "metadata": {},
     "output_type": "display_data"
    }
   ],
   "source": [
    "%%javascript\n",
    "// IPython.OutputArea.auto_scroll_threshold = 9999;\n",
    "IPython.OutputArea.auto_scroll_threshold = 200;\n",
    "//(посмотрим на распределение всех фичей, потом сделать 200 !!!)"
   ]
  },
  {
   "cell_type": "markdown",
   "metadata": {},
   "source": [
    "в ячейке ниже рисуется ~40 графиков, осторожно"
   ]
  },
  {
   "cell_type": "code",
   "execution_count": 9,
   "metadata": {
    "collapsed": true
   },
   "outputs": [],
   "source": [
    "# for c in train.columns:\n",
    "#     if len(np.unique(train[c]))<100:\n",
    "#         continue\n",
    "#     print c\n",
    "#     print 'nunuqie: ', len(np.unique(train[c])), '/', len(train[c])\n",
    "#     print train[c].describe()\n",
    "#     plt.figure(figsize=(10,5))\n",
    "#     plt.hist(train[c], bins=200)\n",
    "#     plt.show()\n",
    "#     if len(train[train[c]<=0.]) > 40:\n",
    "#         continue\n",
    "#     print 'log of', c\n",
    "#     plt.hist(np.log(train[train[c]>0][c]), bins=200)\n",
    "#     plt.show()"
   ]
  },
  {
   "cell_type": "markdown",
   "metadata": {},
   "source": [
    "### Многие фичи имеют логнормальное распределение:\n",
    "\n",
    "DER_pt_ratio_lep_tau\n",
    "\n",
    "DER_mass_vis \n",
    "\n",
    "PRI_met\n",
    "\n",
    "PRI_met_sumet\n",
    "\n",
    "### Добавим log вместо них, а также добавим log следующих колонок (заодно отнормируем еще раз)\n",
    "DER_pt_tot\n",
    "\n",
    "DER_sum_pt\n",
    "\n",
    "### потому что они похожи на логарифм гамма-распределения\n",
    "\n"
   ]
  },
  {
   "cell_type": "code",
   "execution_count": 10,
   "metadata": {
    "collapsed": true
   },
   "outputs": [],
   "source": [
    "log_cols = ['DER_pt_ratio_lep_tau', 'DER_mass_vis', 'PRI_met', 'PRI_met_sumet']\n",
    "for col in log_cols:\n",
    "    train[col] = np.log(train[col]) - [np.mean(train[col])]*len(train)\n",
    "    test[col] = np.log(test[col]) - [np.mean(test[col])]*len(test)"
   ]
  },
  {
   "cell_type": "code",
   "execution_count": 11,
   "metadata": {
    "collapsed": false
   },
   "outputs": [
    {
     "data": {
      "text/plain": [
       "count    250000.000000\n",
       "mean         18.917332\n",
       "std          22.273494\n",
       "min           0.000000\n",
       "25%           2.841000\n",
       "50%          12.315500\n",
       "75%          27.591000\n",
       "max        2834.999000\n",
       "Name: DER_pt_tot, dtype: float64"
      ]
     },
     "execution_count": 11,
     "metadata": {},
     "output_type": "execute_result"
    }
   ],
   "source": [
    "train['DER_pt_tot'].describe()"
   ]
  },
  {
   "cell_type": "code",
   "execution_count": 12,
   "metadata": {
    "collapsed": true
   },
   "outputs": [],
   "source": [
    "gamma_log_cols = ['DER_pt_tot', 'DER_sum_pt']\n",
    "for col in gamma_log_cols:\n",
    "    # прибавим epsilon, там некоторые - нули\n",
    "    train[col+'_log'] = np.log(train[col] + [.01]*len(train)) \n",
    "    test[col+'_log'] = np.log(test[col] + [.01]*len(test)) "
   ]
  },
  {
   "cell_type": "code",
   "execution_count": 13,
   "metadata": {
    "collapsed": false
   },
   "outputs": [
    {
     "data": {
      "text/plain": [
       "((250000, 43), (550000, 43))"
      ]
     },
     "execution_count": 13,
     "metadata": {},
     "output_type": "execute_result"
    }
   ],
   "source": [
    "train.shape, test.shape"
   ]
  },
  {
   "cell_type": "markdown",
   "metadata": {},
   "source": [
    "### Отнормируем все фичи\n",
    "кроме  \n",
    "PRI_jet_num (это категориальный признак),\n",
    "\n",
    "DER_pt_ratio_lep_tau,\n",
    "\n",
    "DER_mass_vis,\n",
    "\n",
    "PRI_met,\n",
    "\n",
    "PRI_met_sumet,\n",
    "\n",
    "DER_pt_tot,\n",
    "\n",
    "DER_sum_pt,"
   ]
  },
  {
   "cell_type": "code",
   "execution_count": 14,
   "metadata": {
    "collapsed": false
   },
   "outputs": [
    {
     "data": {
      "text/plain": [
       "25"
      ]
     },
     "execution_count": 14,
     "metadata": {},
     "output_type": "execute_result"
    }
   ],
   "source": [
    "cols = set(train.columns) - set(['PRI_jet_num', \n",
    "                               'DER_pt_ratio_lep_tau', \n",
    "                               'DER_mass_vis', \n",
    "                               'PRI_met', \n",
    "                               'PRI_met_sumet', \n",
    "                               'DER_pt_tot',\n",
    "                               'DER_sum_pt']) \n",
    "cols = cols - set(cat_cols)\n",
    "\n",
    "len(cols)"
   ]
  },
  {
   "cell_type": "code",
   "execution_count": 15,
   "metadata": {
    "collapsed": false
   },
   "outputs": [],
   "source": [
    "from scipy.stats import variation as var\n",
    "for c in cols:\n",
    "    train[c] = train[c]*(1./var(train[c])) - [train[c].mean()]*len(train)\n",
    "    test[c] = test[c]*(1./var(test[c])) - [test[c].mean()]*len(test)"
   ]
  },
  {
   "cell_type": "markdown",
   "metadata": {
    "collapsed": false
   },
   "source": [
    "### Векторизуем PRI_jet_num (4 значения)"
   ]
  },
  {
   "cell_type": "code",
   "execution_count": 16,
   "metadata": {
    "collapsed": false
   },
   "outputs": [
    {
     "name": "stdout",
     "output_type": "stream",
     "text": [
      "4 4\n"
     ]
    }
   ],
   "source": [
    "print len(np.unique(train['PRI_jet_num'])), len(np.unique(test['PRI_jet_num']))"
   ]
  },
  {
   "cell_type": "code",
   "execution_count": 17,
   "metadata": {
    "collapsed": false
   },
   "outputs": [],
   "source": [
    "train_dummy_enc = pd.get_dummies(train['PRI_jet_num'])\n",
    "test_dummy_enc = pd.get_dummies(test['PRI_jet_num'])\n",
    "\n",
    "colnames = ['PRI_jet_num_0', 'PRI_jet_num_1', 'PRI_jet_num_2', 'PRI_jet_num_3']\n",
    "train_dummy_enc.columns = colnames\n",
    "test_dummy_enc.columns = colnames\n",
    "\n",
    "train = pd.concat([train, train_dummy_enc], axis=1)\n",
    "test = pd.concat([test, test_dummy_enc], axis=1)\n",
    "\n",
    "del train['PRI_jet_num'], test['PRI_jet_num']"
   ]
  },
  {
   "cell_type": "code",
   "execution_count": 18,
   "metadata": {
    "collapsed": false
   },
   "outputs": [
    {
     "data": {
      "text/plain": [
       "((250000, 46), (550000, 46))"
      ]
     },
     "execution_count": 18,
     "metadata": {},
     "output_type": "execute_result"
    }
   ],
   "source": [
    "train.shape, test.shape"
   ]
  },
  {
   "cell_type": "code",
   "execution_count": 19,
   "metadata": {
    "collapsed": false,
    "scrolled": true
   },
   "outputs": [
    {
     "data": {
      "text/html": [
       "<div>\n",
       "<table border=\"1\" class=\"dataframe\">\n",
       "  <thead>\n",
       "    <tr style=\"text-align: right;\">\n",
       "      <th></th>\n",
       "      <th>DER_mass_MMC</th>\n",
       "      <th>DER_mass_transverse_met_lep</th>\n",
       "      <th>DER_mass_vis</th>\n",
       "      <th>DER_pt_h</th>\n",
       "      <th>DER_deltaeta_jet_jet</th>\n",
       "      <th>DER_mass_jet_jet</th>\n",
       "      <th>DER_prodeta_jet_jet</th>\n",
       "      <th>DER_deltar_tau_lep</th>\n",
       "      <th>DER_pt_tot</th>\n",
       "      <th>DER_sum_pt</th>\n",
       "      <th>...</th>\n",
       "      <th>PRI_jet_leading_phi_is_na</th>\n",
       "      <th>PRI_jet_subleading_pt_is_na</th>\n",
       "      <th>PRI_jet_subleading_eta_is_na</th>\n",
       "      <th>PRI_jet_subleading_phi_is_na</th>\n",
       "      <th>DER_pt_tot_log</th>\n",
       "      <th>DER_sum_pt_log</th>\n",
       "      <th>PRI_jet_num_0</th>\n",
       "      <th>PRI_jet_num_1</th>\n",
       "      <th>PRI_jet_num_2</th>\n",
       "      <th>PRI_jet_num_3</th>\n",
       "    </tr>\n",
       "  </thead>\n",
       "  <tbody>\n",
       "    <tr>\n",
       "      <th>0</th>\n",
       "      <td>198.024257</td>\n",
       "      <td>22.722161</td>\n",
       "      <td>-76.598781</td>\n",
       "      <td>-32.447609</td>\n",
       "      <td>-0.072969</td>\n",
       "      <td>-155.354537</td>\n",
       "      <td>-0.31288</td>\n",
       "      <td>6.914279</td>\n",
       "      <td>41.928</td>\n",
       "      <td>197.76</td>\n",
       "      <td>...</td>\n",
       "      <td>0</td>\n",
       "      <td>0</td>\n",
       "      <td>0</td>\n",
       "      <td>0</td>\n",
       "      <td>3.466975</td>\n",
       "      <td>37.324892</td>\n",
       "      <td>0.0</td>\n",
       "      <td>0.0</td>\n",
       "      <td>1.0</td>\n",
       "      <td>0.0</td>\n",
       "    </tr>\n",
       "  </tbody>\n",
       "</table>\n",
       "<p>1 rows × 46 columns</p>\n",
       "</div>"
      ],
      "text/plain": [
       "   DER_mass_MMC  DER_mass_transverse_met_lep  DER_mass_vis   DER_pt_h  \\\n",
       "0    198.024257                    22.722161    -76.598781 -32.447609   \n",
       "\n",
       "   DER_deltaeta_jet_jet  DER_mass_jet_jet  DER_prodeta_jet_jet  \\\n",
       "0             -0.072969       -155.354537             -0.31288   \n",
       "\n",
       "   DER_deltar_tau_lep  DER_pt_tot  DER_sum_pt      ...        \\\n",
       "0            6.914279      41.928      197.76      ...         \n",
       "\n",
       "   PRI_jet_leading_phi_is_na  PRI_jet_subleading_pt_is_na  \\\n",
       "0                          0                            0   \n",
       "\n",
       "   PRI_jet_subleading_eta_is_na  PRI_jet_subleading_phi_is_na  DER_pt_tot_log  \\\n",
       "0                             0                             0        3.466975   \n",
       "\n",
       "   DER_sum_pt_log  PRI_jet_num_0  PRI_jet_num_1  PRI_jet_num_2  PRI_jet_num_3  \n",
       "0       37.324892            0.0            0.0            1.0            0.0  \n",
       "\n",
       "[1 rows x 46 columns]"
      ]
     },
     "execution_count": 19,
     "metadata": {},
     "output_type": "execute_result"
    }
   ],
   "source": [
    "train.head(1)"
   ]
  },
  {
   "cell_type": "code",
   "execution_count": 20,
   "metadata": {
    "collapsed": false
   },
   "outputs": [
    {
     "data": {
      "text/html": [
       "<div>\n",
       "<table border=\"1\" class=\"dataframe\">\n",
       "  <thead>\n",
       "    <tr style=\"text-align: right;\">\n",
       "      <th></th>\n",
       "      <th>DER_mass_MMC</th>\n",
       "      <th>DER_mass_transverse_met_lep</th>\n",
       "      <th>DER_mass_vis</th>\n",
       "      <th>DER_pt_h</th>\n",
       "      <th>DER_deltaeta_jet_jet</th>\n",
       "      <th>DER_mass_jet_jet</th>\n",
       "      <th>DER_prodeta_jet_jet</th>\n",
       "      <th>DER_deltar_tau_lep</th>\n",
       "      <th>DER_pt_tot</th>\n",
       "      <th>DER_sum_pt</th>\n",
       "      <th>...</th>\n",
       "      <th>PRI_jet_leading_phi_is_na</th>\n",
       "      <th>PRI_jet_subleading_pt_is_na</th>\n",
       "      <th>PRI_jet_subleading_eta_is_na</th>\n",
       "      <th>PRI_jet_subleading_phi_is_na</th>\n",
       "      <th>DER_pt_tot_log</th>\n",
       "      <th>DER_sum_pt_log</th>\n",
       "      <th>PRI_jet_num_0</th>\n",
       "      <th>PRI_jet_num_1</th>\n",
       "      <th>PRI_jet_num_2</th>\n",
       "      <th>PRI_jet_num_3</th>\n",
       "    </tr>\n",
       "  </thead>\n",
       "  <tbody>\n",
       "    <tr>\n",
       "      <th>0</th>\n",
       "      <td>162.262243</td>\n",
       "      <td>61.412103</td>\n",
       "      <td>-77.949356</td>\n",
       "      <td>-55.051020</td>\n",
       "      <td>3.75006</td>\n",
       "      <td>272.544429</td>\n",
       "      <td>1.189090</td>\n",
       "      <td>0.374748</td>\n",
       "      <td>3.036</td>\n",
       "      <td>56.018</td>\n",
       "      <td>...</td>\n",
       "      <td>1</td>\n",
       "      <td>1</td>\n",
       "      <td>1</td>\n",
       "      <td>1</td>\n",
       "      <td>-0.494135</td>\n",
       "      <td>27.194897</td>\n",
       "      <td>1.0</td>\n",
       "      <td>0.0</td>\n",
       "      <td>0.0</td>\n",
       "      <td>0.0</td>\n",
       "    </tr>\n",
       "    <tr>\n",
       "      <th>1</th>\n",
       "      <td>126.178716</td>\n",
       "      <td>44.587730</td>\n",
       "      <td>-76.647147</td>\n",
       "      <td>-12.148775</td>\n",
       "      <td>3.75006</td>\n",
       "      <td>272.544429</td>\n",
       "      <td>1.189090</td>\n",
       "      <td>3.860244</td>\n",
       "      <td>2.679</td>\n",
       "      <td>132.865</td>\n",
       "      <td>...</td>\n",
       "      <td>0</td>\n",
       "      <td>1</td>\n",
       "      <td>1</td>\n",
       "      <td>1</td>\n",
       "      <td>-0.682288</td>\n",
       "      <td>34.071867</td>\n",
       "      <td>0.0</td>\n",
       "      <td>1.0</td>\n",
       "      <td>0.0</td>\n",
       "      <td>0.0</td>\n",
       "    </tr>\n",
       "    <tr>\n",
       "      <th>2</th>\n",
       "      <td>152.747110</td>\n",
       "      <td>28.924474</td>\n",
       "      <td>-76.555834</td>\n",
       "      <td>-54.045113</td>\n",
       "      <td>3.75006</td>\n",
       "      <td>272.544429</td>\n",
       "      <td>1.189090</td>\n",
       "      <td>6.012424</td>\n",
       "      <td>4.137</td>\n",
       "      <td>97.600</td>\n",
       "      <td>...</td>\n",
       "      <td>1</td>\n",
       "      <td>1</td>\n",
       "      <td>1</td>\n",
       "      <td>1</td>\n",
       "      <td>-0.028424</td>\n",
       "      <td>31.615682</td>\n",
       "      <td>1.0</td>\n",
       "      <td>0.0</td>\n",
       "      <td>0.0</td>\n",
       "      <td>0.0</td>\n",
       "    </tr>\n",
       "    <tr>\n",
       "      <th>3</th>\n",
       "      <td>194.868132</td>\n",
       "      <td>-6.704427</td>\n",
       "      <td>-76.546228</td>\n",
       "      <td>-49.507112</td>\n",
       "      <td>3.75006</td>\n",
       "      <td>272.544429</td>\n",
       "      <td>1.189090</td>\n",
       "      <td>6.182894</td>\n",
       "      <td>9.104</td>\n",
       "      <td>94.112</td>\n",
       "      <td>...</td>\n",
       "      <td>1</td>\n",
       "      <td>1</td>\n",
       "      <td>1</td>\n",
       "      <td>1</td>\n",
       "      <td>1.160060</td>\n",
       "      <td>31.325904</td>\n",
       "      <td>1.0</td>\n",
       "      <td>0.0</td>\n",
       "      <td>0.0</td>\n",
       "      <td>0.0</td>\n",
       "    </tr>\n",
       "    <tr>\n",
       "      <th>4</th>\n",
       "      <td>51.017393</td>\n",
       "      <td>65.838252</td>\n",
       "      <td>-77.050936</td>\n",
       "      <td>24.078488</td>\n",
       "      <td>1.04074</td>\n",
       "      <td>556.868147</td>\n",
       "      <td>0.977312</td>\n",
       "      <td>0.755261</td>\n",
       "      <td>77.213</td>\n",
       "      <td>721.552</td>\n",
       "      <td>...</td>\n",
       "      <td>0</td>\n",
       "      <td>0</td>\n",
       "      <td>0</td>\n",
       "      <td>0</td>\n",
       "      <td>4.385317</td>\n",
       "      <td>47.546246</td>\n",
       "      <td>0.0</td>\n",
       "      <td>0.0</td>\n",
       "      <td>0.0</td>\n",
       "      <td>1.0</td>\n",
       "    </tr>\n",
       "  </tbody>\n",
       "</table>\n",
       "<p>5 rows × 46 columns</p>\n",
       "</div>"
      ],
      "text/plain": [
       "   DER_mass_MMC  DER_mass_transverse_met_lep  DER_mass_vis   DER_pt_h  \\\n",
       "0    162.262243                    61.412103    -77.949356 -55.051020   \n",
       "1    126.178716                    44.587730    -76.647147 -12.148775   \n",
       "2    152.747110                    28.924474    -76.555834 -54.045113   \n",
       "3    194.868132                    -6.704427    -76.546228 -49.507112   \n",
       "4     51.017393                    65.838252    -77.050936  24.078488   \n",
       "\n",
       "   DER_deltaeta_jet_jet  DER_mass_jet_jet  DER_prodeta_jet_jet  \\\n",
       "0               3.75006        272.544429             1.189090   \n",
       "1               3.75006        272.544429             1.189090   \n",
       "2               3.75006        272.544429             1.189090   \n",
       "3               3.75006        272.544429             1.189090   \n",
       "4               1.04074        556.868147             0.977312   \n",
       "\n",
       "   DER_deltar_tau_lep  DER_pt_tot  DER_sum_pt      ...        \\\n",
       "0            0.374748       3.036      56.018      ...         \n",
       "1            3.860244       2.679     132.865      ...         \n",
       "2            6.012424       4.137      97.600      ...         \n",
       "3            6.182894       9.104      94.112      ...         \n",
       "4            0.755261      77.213     721.552      ...         \n",
       "\n",
       "   PRI_jet_leading_phi_is_na  PRI_jet_subleading_pt_is_na  \\\n",
       "0                          1                            1   \n",
       "1                          0                            1   \n",
       "2                          1                            1   \n",
       "3                          1                            1   \n",
       "4                          0                            0   \n",
       "\n",
       "   PRI_jet_subleading_eta_is_na  PRI_jet_subleading_phi_is_na  DER_pt_tot_log  \\\n",
       "0                             1                             1       -0.494135   \n",
       "1                             1                             1       -0.682288   \n",
       "2                             1                             1       -0.028424   \n",
       "3                             1                             1        1.160060   \n",
       "4                             0                             0        4.385317   \n",
       "\n",
       "   DER_sum_pt_log  PRI_jet_num_0  PRI_jet_num_1  PRI_jet_num_2  PRI_jet_num_3  \n",
       "0       27.194897            1.0            0.0            0.0            0.0  \n",
       "1       34.071867            0.0            1.0            0.0            0.0  \n",
       "2       31.615682            1.0            0.0            0.0            0.0  \n",
       "3       31.325904            1.0            0.0            0.0            0.0  \n",
       "4       47.546246            0.0            0.0            0.0            1.0  \n",
       "\n",
       "[5 rows x 46 columns]"
      ]
     },
     "execution_count": 20,
     "metadata": {},
     "output_type": "execute_result"
    }
   ],
   "source": [
    "test.head()"
   ]
  },
  {
   "cell_type": "markdown",
   "metadata": {},
   "source": [
    "# Training"
   ]
  },
  {
   "cell_type": "code",
   "execution_count": 21,
   "metadata": {
    "collapsed": false
   },
   "outputs": [
    {
     "data": {
      "text/plain": [
       "(-0.63098171597333352, 0.0)"
      ]
     },
     "execution_count": 21,
     "metadata": {},
     "output_type": "execute_result"
    }
   ],
   "source": [
    "from scipy.stats import pearsonr\n",
    "pearsonr(weights_train, y_train)"
   ]
  },
  {
   "cell_type": "markdown",
   "metadata": {},
   "source": [
    "## Сначала для теста предскажем Weight, обучившись на Weight из X, после уже будем предсказывать Label. Почему?\n",
    "### 1) получится своеобразный стекинг 2 алгоритмов, что уже хорошо, так как веса и лейбелы слабо коррелируют\n",
    "### 2) будем использовать информацию о весах\n",
    "\n",
    "'"
   ]
  },
  {
   "cell_type": "code",
   "execution_count": 30,
   "metadata": {
    "collapsed": true
   },
   "outputs": [],
   "source": [
    "params = {} \n",
    "params['objective']           = \"reg:linear\"\n",
    "params['eval_metric']         = \"rmse\"\n",
    "params['eta']                 = 0.01\n",
    "params['subsample']           = 0.681\n",
    "params['colsample_bytree']    = 0.95\n",
    "params['seed']                = 1337\n",
    "params['njobs']               = -1"
   ]
  },
  {
   "cell_type": "code",
   "execution_count": 25,
   "metadata": {
    "collapsed": true
   },
   "outputs": [],
   "source": [
    "old_cols = train.columns"
   ]
  },
  {
   "cell_type": "code",
   "execution_count": 26,
   "metadata": {
    "collapsed": false
   },
   "outputs": [],
   "source": [
    "train.columns = [str(i) for i in range(0, len(train.columns))]\n",
    "test.columns = [str(i) for i in range(0, len(test.columns))]"
   ]
  },
  {
   "cell_type": "code",
   "execution_count": 27,
   "metadata": {
    "collapsed": true
   },
   "outputs": [],
   "source": [
    "from sklearn.cross_validation import train_test_split as tts\n",
    "\n",
    "(train_cv, \n",
    " test_cv, \n",
    " y_train_cv, \n",
    " y_test_cv) = tts( train, y_train, \n",
    "                   test_size=0.3, \n",
    "                   random_state=42)\n",
    "#                    stratify=y_train )"
   ]
  },
  {
   "cell_type": "code",
   "execution_count": 31,
   "metadata": {
    "collapsed": false
   },
   "outputs": [
    {
     "name": "stderr",
     "output_type": "stream",
     "text": [
      "Will train until eval error hasn't decreased in 10 rounds.\n"
     ]
    }
   ],
   "source": [
    "import xgboost as xgb\n",
    "\n",
    "dtrain = xgb.DMatrix(train_cv, label=y_train_cv)\n",
    "dval = xgb.DMatrix(test_cv, label=y_test_cv)\n",
    "watchlist = [(dval,'eval')]\n",
    "\n",
    "num_trees = 888\n",
    "esr = 10\n",
    "\n",
    "gbm = xgb.train(params, dtrain, num_trees, evals=watchlist, \n",
    "                verbose_eval=False, early_stopping_rounds = esr)"
   ]
  },
  {
   "cell_type": "code",
   "execution_count": null,
   "metadata": {
    "collapsed": true
   },
   "outputs": [],
   "source": [
    "# [154]\teval-rmse:0.338095"
   ]
  },
  {
   "cell_type": "code",
   "execution_count": null,
   "metadata": {
    "collapsed": true
   },
   "outputs": [],
   "source": []
  },
  {
   "cell_type": "code",
   "execution_count": null,
   "metadata": {
    "collapsed": true
   },
   "outputs": [],
   "source": []
  },
  {
   "cell_type": "code",
   "execution_count": null,
   "metadata": {
    "collapsed": true
   },
   "outputs": [],
   "source": []
  },
  {
   "cell_type": "code",
   "execution_count": null,
   "metadata": {
    "collapsed": false
   },
   "outputs": [],
   "source": []
  },
  {
   "cell_type": "code",
   "execution_count": null,
   "metadata": {
    "collapsed": false
   },
   "outputs": [],
   "source": [
    "param_grid = {'max_depth': range(5, 7),\n",
    "              'objective':['reg:linear'],\n",
    "              'n_estimators': range(100, 500),\n",
    "              'learning_rate': np.arange(0.01, 0.3, .001), #eta\n",
    "              'subsample': np.arange(0.5, 1, .01),\n",
    "              'colsample_bytree': np.arange(0.5, 1, .01),\n",
    "             }"
   ]
  },
  {
   "cell_type": "code",
   "execution_count": null,
   "metadata": {
    "collapsed": false,
    "scrolled": true
   },
   "outputs": [],
   "source": [
    "# train_columns = train.columns\n",
    "train.columns = [str(i) for i in range(0, len(train_columns))]"
   ]
  },
  {
   "cell_type": "code",
   "execution_count": null,
   "metadata": {
    "collapsed": false,
    "scrolled": false
   },
   "outputs": [],
   "source": [
    "from sklearn.grid_search import GridSearchCV, RandomizedSearchCV\n",
    "\n",
    "xgb_model = xgb.XGBRegressor()\n",
    "n_iter_search=1\n",
    "random_search = RandomizedSearchCV(xgb_model, param_distributions=param_grid,\n",
    "                                   n_iter=n_iter_search, scoring=\"mean_squared_error\",\n",
    "                                   n_jobs=8, verbose=10)\n",
    "\n",
    "random_search.fit(train, weights_train) "
   ]
  },
  {
   "cell_type": "code",
   "execution_count": null,
   "metadata": {
    "collapsed": false
   },
   "outputs": [],
   "source": [
    "xgb.XGBRegressor().get_params().keys()"
   ]
  },
  {
   "cell_type": "code",
   "execution_count": null,
   "metadata": {
    "collapsed": true
   },
   "outputs": [],
   "source": [
    "print random_search.grid_scores_\n",
    "print random_search.best_estimator_\n",
    "print random_search.best_score_\n",
    "print random_search.best_params_\n"
   ]
  },
  {
   "cell_type": "code",
   "execution_count": null,
   "metadata": {
    "collapsed": true
   },
   "outputs": [],
   "source": [
    "# import xgboost as xgb\n",
    "\n",
    "# gbm = xgb.XGBRegressor()\n",
    "# gbm_params = {\n",
    "#     'learning_rate': [0.005, 0.2],\n",
    "#     'n_estimators': [100, 1000],\n",
    "#     'max_depth': [2, 3, 10],\n",
    "# }\n",
    "# cv = StratifiedKFold(train_y)\n",
    "# grid = GridSearchCV(gbm, gbm_params,scoring='roc_auc',cv=cv,verbose=10,n_jobs=-1)\n",
    "# grid.fit(train_X, train_y)\n",
    "\n",
    "# print (grid.best_params_)"
   ]
  },
  {
   "cell_type": "code",
   "execution_count": null,
   "metadata": {
    "collapsed": true
   },
   "outputs": [],
   "source": []
  }
 ],
 "metadata": {
  "kernelspec": {
   "display_name": "Python 2",
   "language": "python",
   "name": "python2"
  },
  "language_info": {
   "codemirror_mode": {
    "name": "ipython",
    "version": 2
   },
   "file_extension": ".py",
   "mimetype": "text/x-python",
   "name": "python",
   "nbconvert_exporter": "python",
   "pygments_lexer": "ipython2",
   "version": "2.7.11"
  },
  "notify_time": "5"
 },
 "nbformat": 4,
 "nbformat_minor": 0
}
